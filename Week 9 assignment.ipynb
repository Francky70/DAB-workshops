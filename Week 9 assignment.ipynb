{
 "cells": [
  {
   "cell_type": "markdown",
   "id": "616e693c-6f8b-42be-9276-3b0d625cda5b",
   "metadata": {},
   "source": [
    "##### Francky Ciceron \n",
    "##### Week 9 Assignment \n",
    "##### Advanced Pandas Retail Chain Performance Analysis"
   ]
  },
  {
   "cell_type": "code",
   "execution_count": 1,
   "id": "396ca5e9-f369-4fed-b41a-3afe17060d34",
   "metadata": {},
   "outputs": [],
   "source": [
    "import pandas as pd\n",
    "import numpy as np\n",
    "import glob"
   ]
  },
  {
   "cell_type": "code",
   "execution_count": 5,
   "id": "d4878006-2b5f-43ea-a150-fe1c5fa13af2",
   "metadata": {},
   "outputs": [],
   "source": [
    "#1. Get all CSV file paths from a folder\n",
    "csv_files = glob.glob(\"*.csv\")"
   ]
  },
  {
   "cell_type": "code",
   "execution_count": 6,
   "id": "2eecce1f-42c2-4d90-a360-f0f28faa5f31",
   "metadata": {},
   "outputs": [],
   "source": [
    "#2. Create a dictionary of DataFrames\n",
    "dataframes = {file: pd.read_csv(file) for file in csv_files}"
   ]
  },
  {
   "cell_type": "code",
   "execution_count": 7,
   "id": "09ba764c-6b45-438d-8e6c-deb75a34843d",
   "metadata": {},
   "outputs": [
    {
     "name": "stdout",
     "output_type": "stream",
     "text": [
      "\n",
      "--- customers_wk9_thurs.csv ---\n",
      "   customer_id first_name last_name  age state  income registration_date  \\\n",
      "0            1       John     Smith   34    CA   75000        2022-01-15   \n",
      "1            2      Sarah   Johnson   28    NY   82000        2022-01-22   \n",
      "2            3    Michael     Brown   45    TX   95000        2022-02-03   \n",
      "3            4      Emily     Davis   31    FL   68000        2022-02-14   \n",
      "4            5      David    Wilson   52    IL  110000        2022-02-28   \n",
      "\n",
      "                     email  \n",
      "0     john.smith@email.com  \n",
      "1  sarah.johnson@email.com  \n",
      "2  michael.brown@email.com  \n",
      "3    emily.davis@email.com  \n",
      "4   david.wilson@email.com  \n",
      "\n",
      "--- products_wk9_thurs.csv ---\n",
      "   product_id                   product_name           category  price  \\\n",
      "0           1  Wireless Bluetooth Headphones        Electronics  79.99   \n",
      "1           2         Organic Cotton T-Shirt           Clothing  24.99   \n",
      "2           3   Stainless Steel Water Bottle      Home & Garden  19.99   \n",
      "3           4          Leather Crossbody Bag        Accessories  89.99   \n",
      "4           5               Yoga Mat Premium  Sports & Outdoors  34.99   \n",
      "\n",
      "  launch_date       brand  \n",
      "0  2021-03-15   AudioTech  \n",
      "1  2021-04-20     EcoWear  \n",
      "2  2021-05-10   HydroLife  \n",
      "3  2021-06-01  StyleCraft  \n",
      "4  2021-06-15     FitZone  \n",
      "\n",
      "--- sales_wk9_thurs.csv ---\n",
      "   sale_id  customer_id  product_id     transaction_date  quantity  \\\n",
      "0        1            1           1  2022-02-10 14:30:00         1   \n",
      "1        2            2           3  2022-02-15 10:15:00         2   \n",
      "2        3            3           5  2022-02-20 16:45:00         1   \n",
      "3        4            4           2  2022-02-25 11:20:00         3   \n",
      "4        5            5           4  2022-03-01 13:10:00         1   \n",
      "\n",
      "   total_amount  \n",
      "0         79.99  \n",
      "1         39.98  \n",
      "2         34.99  \n",
      "3         74.97  \n",
      "4         89.99  \n"
     ]
    }
   ],
   "source": [
    "#3. Display the first few rows of each DataFrame\n",
    "for file, df in dataframes.items():\n",
    "    print(f\"\\n--- {file} ---\")\n",
    "    print(df.head())"
   ]
  },
  {
   "cell_type": "code",
   "execution_count": 8,
   "id": "d3d3da04-7dc6-497e-8e07-1d8a7f994d45",
   "metadata": {},
   "outputs": [
    {
     "name": "stdout",
     "output_type": "stream",
     "text": [
      "dict_keys(['customers_wk9_thurs.csv', 'products_wk9_thurs.csv', 'sales_wk9_thurs.csv'])\n"
     ]
    }
   ],
   "source": [
    "# See all keys (file names)\n",
    "print(dataframes.keys())"
   ]
  },
  {
   "cell_type": "code",
   "execution_count": 9,
   "id": "2cb06bb2-b137-4cec-ae26-5e433fed2350",
   "metadata": {},
   "outputs": [],
   "source": [
    "customers_df = dataframes[\"customers_wk9_thurs.csv\"]\n",
    "products_df = dataframes[\"products_wk9_thurs.csv\"]\n",
    "sales_df = dataframes[\"sales_wk9_thurs.csv\"]"
   ]
  },
  {
   "cell_type": "code",
   "execution_count": 10,
   "id": "2f7f28c3-0df8-4bb0-a239-48c2d5cbe67a",
   "metadata": {},
   "outputs": [
    {
     "name": "stdout",
     "output_type": "stream",
     "text": [
      "   customer_id first_name last_name  age state  income registration_date  \\\n",
      "0            1       John     Smith   34    CA   75000        2022-01-15   \n",
      "1            2      Sarah   Johnson   28    NY   82000        2022-01-22   \n",
      "2            3    Michael     Brown   45    TX   95000        2022-02-03   \n",
      "3            4      Emily     Davis   31    FL   68000        2022-02-14   \n",
      "4            5      David    Wilson   52    IL  110000        2022-02-28   \n",
      "\n",
      "                     email  \n",
      "0     john.smith@email.com  \n",
      "1  sarah.johnson@email.com  \n",
      "2  michael.brown@email.com  \n",
      "3    emily.davis@email.com  \n",
      "4   david.wilson@email.com  \n",
      "   product_id                   product_name           category  price  \\\n",
      "0           1  Wireless Bluetooth Headphones        Electronics  79.99   \n",
      "1           2         Organic Cotton T-Shirt           Clothing  24.99   \n",
      "2           3   Stainless Steel Water Bottle      Home & Garden  19.99   \n",
      "3           4          Leather Crossbody Bag        Accessories  89.99   \n",
      "4           5               Yoga Mat Premium  Sports & Outdoors  34.99   \n",
      "\n",
      "  launch_date       brand  \n",
      "0  2021-03-15   AudioTech  \n",
      "1  2021-04-20     EcoWear  \n",
      "2  2021-05-10   HydroLife  \n",
      "3  2021-06-01  StyleCraft  \n",
      "4  2021-06-15     FitZone  \n",
      "   sale_id  customer_id  product_id     transaction_date  quantity  \\\n",
      "0        1            1           1  2022-02-10 14:30:00         1   \n",
      "1        2            2           3  2022-02-15 10:15:00         2   \n",
      "2        3            3           5  2022-02-20 16:45:00         1   \n",
      "3        4            4           2  2022-02-25 11:20:00         3   \n",
      "4        5            5           4  2022-03-01 13:10:00         1   \n",
      "\n",
      "   total_amount  \n",
      "0         79.99  \n",
      "1         39.98  \n",
      "2         34.99  \n",
      "3         74.97  \n",
      "4         89.99  \n"
     ]
    }
   ],
   "source": [
    "# check first rows to make sure everything loaded correctly\n",
    "print(customers_df.head())\n",
    "print(products_df.head())\n",
    "print(sales_df.head())"
   ]
  },
  {
   "cell_type": "code",
   "execution_count": 11,
   "id": "e910f75d-aa04-4d7a-97a4-c49c2e8e699c",
   "metadata": {},
   "outputs": [
    {
     "name": "stdout",
     "output_type": "stream",
     "text": [
      "<class 'pandas.core.frame.DataFrame'>\n",
      "RangeIndex: 100 entries, 0 to 99\n",
      "Data columns (total 8 columns):\n",
      " #   Column             Non-Null Count  Dtype \n",
      "---  ------             --------------  ----- \n",
      " 0   customer_id        100 non-null    int64 \n",
      " 1   first_name         100 non-null    object\n",
      " 2   last_name          100 non-null    object\n",
      " 3   age                100 non-null    int64 \n",
      " 4   state              100 non-null    object\n",
      " 5   income             100 non-null    int64 \n",
      " 6   registration_date  100 non-null    object\n",
      " 7   email              100 non-null    object\n",
      "dtypes: int64(3), object(5)\n",
      "memory usage: 6.4+ KB\n"
     ]
    }
   ],
   "source": [
    "#Look at the customers Data Frame\n",
    "customers_df.info()"
   ]
  },
  {
   "cell_type": "code",
   "execution_count": 12,
   "id": "52c433c9-1776-4d0a-87b8-2f86f8eaf5be",
   "metadata": {},
   "outputs": [
    {
     "name": "stdout",
     "output_type": "stream",
     "text": [
      "<class 'pandas.core.frame.DataFrame'>\n",
      "RangeIndex: 60 entries, 0 to 59\n",
      "Data columns (total 6 columns):\n",
      " #   Column        Non-Null Count  Dtype  \n",
      "---  ------        --------------  -----  \n",
      " 0   product_id    60 non-null     int64  \n",
      " 1   product_name  60 non-null     object \n",
      " 2   category      60 non-null     object \n",
      " 3   price         60 non-null     float64\n",
      " 4   launch_date   60 non-null     object \n",
      " 5   brand         60 non-null     object \n",
      "dtypes: float64(1), int64(1), object(4)\n",
      "memory usage: 2.9+ KB\n"
     ]
    }
   ],
   "source": [
    "#Look at the Products Data Frame\n",
    "products_df.info()"
   ]
  },
  {
   "cell_type": "code",
   "execution_count": 13,
   "id": "c1ed6615-6ab0-481f-ae8c-07da7178dd0d",
   "metadata": {},
   "outputs": [
    {
     "name": "stdout",
     "output_type": "stream",
     "text": [
      "<class 'pandas.core.frame.DataFrame'>\n",
      "RangeIndex: 150 entries, 0 to 149\n",
      "Data columns (total 6 columns):\n",
      " #   Column            Non-Null Count  Dtype  \n",
      "---  ------            --------------  -----  \n",
      " 0   sale_id           150 non-null    int64  \n",
      " 1   customer_id       150 non-null    int64  \n",
      " 2   product_id        150 non-null    int64  \n",
      " 3   transaction_date  150 non-null    object \n",
      " 4   quantity          150 non-null    int64  \n",
      " 5   total_amount      150 non-null    float64\n",
      "dtypes: float64(1), int64(4), object(1)\n",
      "memory usage: 7.2+ KB\n"
     ]
    }
   ],
   "source": [
    "# Look at the sales Data Frame\n",
    "sales_df.info()"
   ]
  },
  {
   "cell_type": "code",
   "execution_count": 14,
   "id": "c6356809-22ea-49ed-b0df-ffb595b51f1e",
   "metadata": {},
   "outputs": [],
   "source": [
    "#Part 1: DateTime operations\n",
    "# convert date columns to proper DateTime format\n",
    "customers_df['registration_date'] = pd.to_datetime(customers_df['registration_date'])\n",
    "products_df['launch_date'] = pd.to_datetime(products_df['launch_date'])\n",
    "sales_df['transaction_date'] = pd.to_datetime(sales_df['transaction_date'])"
   ]
  },
  {
   "cell_type": "code",
   "execution_count": 15,
   "id": "e83ffe07-6a1e-4fb5-b972-f62fa46f31f3",
   "metadata": {},
   "outputs": [
    {
     "name": "stdout",
     "output_type": "stream",
     "text": [
      "0   2022-01-15\n",
      "1   2022-01-22\n",
      "2   2022-02-03\n",
      "3   2022-02-14\n",
      "4   2022-02-28\n",
      "Name: registration_date, dtype: datetime64[ns]\n",
      "0   2021-03-15\n",
      "1   2021-04-20\n",
      "2   2021-05-10\n",
      "3   2021-06-01\n",
      "4   2021-06-15\n",
      "Name: launch_date, dtype: datetime64[ns]\n",
      "0   2022-02-10 14:30:00\n",
      "1   2022-02-15 10:15:00\n",
      "2   2022-02-20 16:45:00\n",
      "3   2022-02-25 11:20:00\n",
      "4   2022-03-01 13:10:00\n",
      "Name: transaction_date, dtype: datetime64[ns]\n"
     ]
    }
   ],
   "source": [
    "print(customers_df['registration_date'].head())\n",
    "print(products_df['launch_date'].head())\n",
    "print(sales_df['transaction_date'].head())"
   ]
  },
  {
   "cell_type": "code",
   "execution_count": 28,
   "id": "e63e7341-4a2c-4fd4-ad06-6f06ed0f02b0",
   "metadata": {},
   "outputs": [],
   "source": [
    "#Extract useful components from the sales transaction dates: year, month, and day of week\n",
    "sales_df['year'] = sales_df['transaction_date'].dt.year\n",
    "sales_df['month'] = sales_df['transaction_date'].dt.month\n",
    "sales_df['day_of_week'] = sales_df['transaction_date'].dt.day_name()"
   ]
  },
  {
   "cell_type": "code",
   "execution_count": 29,
   "id": "ddc2c2ee-a12d-4f3e-9ba4-3de7d7a50c3c",
   "metadata": {},
   "outputs": [
    {
     "name": "stdout",
     "output_type": "stream",
     "text": [
      "     transaction_date  year  month day_of_week\n",
      "0 2022-02-10 14:30:00  2022      2    Thursday\n",
      "1 2022-02-15 10:15:00  2022      2     Tuesday\n",
      "2 2022-02-20 16:45:00  2022      2      Sunday\n",
      "3 2022-02-25 11:20:00  2022      2      Friday\n",
      "4 2022-03-01 13:10:00  2022      3     Tuesday\n"
     ]
    }
   ],
   "source": [
    "print(sales_df[['transaction_date', 'year', 'month', 'day_of_week']].head())"
   ]
  },
  {
   "cell_type": "code",
   "execution_count": 30,
   "id": "a6e53d23-15ce-4288-89c7-18e22db67d2d",
   "metadata": {},
   "outputs": [],
   "source": [
    "#Identified sales date range using .min() and .max()\n",
    "earliest_date = sales_df['transaction_date'].min()\n",
    "latest_date = sales_df['transaction_date'].max()"
   ]
  },
  {
   "cell_type": "code",
   "execution_count": 19,
   "id": "3c458591-5706-4543-a1a1-65ae82a3dac7",
   "metadata": {},
   "outputs": [
    {
     "name": "stdout",
     "output_type": "stream",
     "text": [
      "Earliest transaction date: 2022-02-10 14:30:00\n"
     ]
    }
   ],
   "source": [
    "print(\"Earliest transaction date:\", earliest_date)"
   ]
  },
  {
   "cell_type": "code",
   "execution_count": 20,
   "id": "faca0bb9-f968-4bbd-85b9-57b4f1599a4b",
   "metadata": {},
   "outputs": [
    {
     "name": "stdout",
     "output_type": "stream",
     "text": [
      "Latest transaction date: 2024-03-05 10:30:00\n"
     ]
    }
   ],
   "source": [
    "print(\"Latest transaction date:\", latest_date)"
   ]
  },
  {
   "cell_type": "code",
   "execution_count": 31,
   "id": "202afa87-0bc7-484d-b192-fd17b6b1d8e0",
   "metadata": {},
   "outputs": [],
   "source": [
    "#Find the busiest day of the week for sales (by counting transactions)\n",
    "busiest_day = sales_df['day_of_week'].value_counts()"
   ]
  },
  {
   "cell_type": "code",
   "execution_count": 25,
   "id": "9e8488d3-d9df-41dd-9855-73b5f56be4e3",
   "metadata": {},
   "outputs": [
    {
     "name": "stdout",
     "output_type": "stream",
     "text": [
      "Transactions by day of week:\n",
      "day_of_week\n",
      "Friday       24\n",
      "Tuesday      22\n",
      "Thursday     21\n",
      "Sunday       21\n",
      "Saturday     21\n",
      "Wednesday    21\n",
      "Monday       20\n",
      "Name: count, dtype: int64\n"
     ]
    }
   ],
   "source": [
    "print(\"Transactions by day of week:\")\n",
    "print(busiest_day)\n"
   ]
  },
  {
   "cell_type": "code",
   "execution_count": 33,
   "id": "40791b9f-1dff-4814-b3ca-331139131ab6",
   "metadata": {},
   "outputs": [
    {
     "name": "stdout",
     "output_type": "stream",
     "text": [
      "Busiest day: Friday\n"
     ]
    }
   ],
   "source": [
    "print(\"Busiest day:\", busiest_day.idxmax())"
   ]
  },
  {
   "cell_type": "code",
   "execution_count": 32,
   "id": "5bd92096-091d-4aea-8160-7410b8cd2f88",
   "metadata": {},
   "outputs": [],
   "source": [
    "#Determine which month had the most transactions\n",
    "#count transactions per month\n",
    "monthly_counts = sales_df['month'].value_counts().sort_index()"
   ]
  },
  {
   "cell_type": "code",
   "execution_count": 34,
   "id": "bee615a7-8a00-4bdf-afe1-34742b79f576",
   "metadata": {},
   "outputs": [
    {
     "name": "stdout",
     "output_type": "stream",
     "text": [
      "Transactions per month:\n",
      "month\n",
      "1     10\n",
      "2     16\n",
      "3     14\n",
      "4     12\n",
      "5     12\n",
      "6     12\n",
      "7     12\n",
      "8     12\n",
      "9     12\n",
      "10    12\n",
      "11    12\n",
      "12    14\n",
      "Name: count, dtype: int64\n"
     ]
    }
   ],
   "source": [
    "print(\"Transactions per month:\")\n",
    "print(monthly_counts)\n"
   ]
  },
  {
   "cell_type": "code",
   "execution_count": 35,
   "id": "dc1273c3-b4ee-414d-a2fa-77a7cea9a508",
   "metadata": {},
   "outputs": [
    {
     "name": "stdout",
     "output_type": "stream",
     "text": [
      "Month with the most transactions: 2\n"
     ]
    }
   ],
   "source": [
    "#Month with most transactions\n",
    "most_transaction_month = monthly_counts.idxmax()\n",
    "print(\"Month with the most transactions:\", most_transaction_month)"
   ]
  },
  {
   "cell_type": "code",
   "execution_count": 37,
   "id": "25139ad8-71db-40ec-9e7c-bca99e8f5b8b",
   "metadata": {},
   "outputs": [
    {
     "name": "stdout",
     "output_type": "stream",
     "text": [
      "year\n",
      "2023    72\n",
      "2022    65\n",
      "2024    13\n",
      "Name: count, dtype: int64\n"
     ]
    }
   ],
   "source": [
    "#Count how many sales happened in each year\n",
    "sales_per_year = sales_df['year'].value_counts()\n",
    "print(sales_per_year)"
   ]
  },
  {
   "cell_type": "code",
   "execution_count": 39,
   "id": "ad9bc164-1caa-4932-b12c-aea003dc0811",
   "metadata": {},
   "outputs": [
    {
     "name": "stdout",
     "output_type": "stream",
     "text": [
      "category\n",
      "Accessories           35.073333\n",
      "Clothing              52.240000\n",
      "Electronics           59.990000\n",
      "Home & Garden         30.156667\n",
      "Sports & Outdoors    105.899091\n",
      "Name: price, dtype: float64\n"
     ]
    }
   ],
   "source": [
    "#Part 2. GroupBy and Aggregation\n",
    "#Group products by category and calculate the average price for each category\n",
    "grouped_products = products_df.groupby('category')['price'].mean()\n",
    "print(grouped_products)"
   ]
  },
  {
   "cell_type": "code",
   "execution_count": 40,
   "id": "6fdffe8d-b219-4dc7-b025-7c6b47b6a867",
   "metadata": {},
   "outputs": [
    {
     "name": "stdout",
     "output_type": "stream",
     "text": [
      "category\n",
      "Sports & Outdoors    105.899091\n",
      "Electronics           59.990000\n",
      "Clothing              52.240000\n",
      "Accessories           35.073333\n",
      "Home & Garden         30.156667\n",
      "Name: price, dtype: float64\n"
     ]
    }
   ],
   "source": [
    "#Sort by average price descending\n",
    "grouped_products_sorted = grouped_products.sort_values(ascending=False)\n",
    "print(grouped_products_sorted)"
   ]
  },
  {
   "cell_type": "code",
   "execution_count": 41,
   "id": "438ceed1-8871-4b3a-9c02-d88364b37be5",
   "metadata": {},
   "outputs": [
    {
     "name": "stdout",
     "output_type": "stream",
     "text": [
      "category\n",
      "Electronics          13\n",
      "Clothing             12\n",
      "Home & Garden        12\n",
      "Accessories          12\n",
      "Sports & Outdoors    11\n",
      "Name: count, dtype: int64\n"
     ]
    }
   ],
   "source": [
    "#Count how many products are in each category\n",
    "total_products_per_category = products_df['category'].value_counts()\n",
    "print(total_products_per_category)"
   ]
  },
  {
   "cell_type": "code",
   "execution_count": 42,
   "id": "d7fd878e-996d-461f-8dfb-7893921c12af",
   "metadata": {},
   "outputs": [
    {
     "name": "stdout",
     "output_type": "stream",
     "text": [
      "state\n",
      "CA    34.10\n",
      "FL    39.00\n",
      "IL    37.25\n",
      "NY    36.50\n",
      "TX    38.30\n",
      "Name: age, dtype: float64\n"
     ]
    }
   ],
   "source": [
    "#Group customers by state and find the average age in each state\n",
    "grouped_customers = customers_df.groupby('state')['age'].mean()\n",
    "print(grouped_customers)"
   ]
  },
  {
   "cell_type": "code",
   "execution_count": 44,
   "id": "6fe1dbf4-d17f-4b55-ab90-44e72f162f27",
   "metadata": {},
   "outputs": [
    {
     "name": "stdout",
     "output_type": "stream",
     "text": [
      "   customer_id  total_amount\n",
      "0            1        229.98\n",
      "1            2        179.96\n",
      "2            3        154.98\n",
      "3            4        234.95\n",
      "4            5        149.98\n"
     ]
    }
   ],
   "source": [
    "#Calculate total spending per customer (sum up all their purchases)\n",
    "total_spending = sales_df.groupby('customer_id')['total_amount'].sum().reset_index()\n",
    "print(total_spending.head())"
   ]
  },
  {
   "cell_type": "code",
   "execution_count": 46,
   "id": "1efddff1-a7bd-467d-8646-5f1d7070c17a",
   "metadata": {},
   "outputs": [
    {
     "name": "stdout",
     "output_type": "stream",
     "text": [
      "Top customers by number of purchases:\n",
      "customer_id\n",
      "1    2\n",
      "2    2\n",
      "3    2\n",
      "4    2\n",
      "5    2\n",
      "Name: count, dtype: int64\n"
     ]
    }
   ],
   "source": [
    "#Find customers who have made the most purchases\n",
    "#count the number of purchases per customer\n",
    "purchase_counts = sales_df['customer_id'].value_counts()\n",
    "print(\"Top customers by number of purchases:\")\n",
    "print(purchase_counts.head())"
   ]
  },
  {
   "cell_type": "code",
   "execution_count": 49,
   "id": "5ac818de-3406-4b1b-8ae3-6d93c230ac36",
   "metadata": {},
   "outputs": [
    {
     "name": "stdout",
     "output_type": "stream",
     "text": [
      "month\n",
      "1      864.79\n",
      "2     1669.66\n",
      "3     1115.77\n",
      "4      924.77\n",
      "5     1177.79\n",
      "6      986.68\n",
      "7      930.80\n",
      "8      870.74\n",
      "9     1150.76\n",
      "10    1235.80\n",
      "11    1022.76\n",
      "12    1458.71\n",
      "Name: total_amount, dtype: float64\n"
     ]
    }
   ],
   "source": [
    "#Calculate total sales revenue by month\n",
    "#group by existing \"month\" column to calculate the total sales revenue by month\n",
    "total_sales_revenue_by_month = sales_df.groupby('month')['total_amount'].sum().sort_index()\n",
    "print(total_sales_revenue_by_month)"
   ]
  },
  {
   "cell_type": "code",
   "execution_count": 51,
   "id": "4455aeca-d744-42aa-afe3-7b30983d4129",
   "metadata": {},
   "outputs": [
    {
     "name": "stdout",
     "output_type": "stream",
     "text": [
      "day_of_week\n",
      "Friday       100.940833\n",
      "Monday        90.927500\n",
      "Saturday      61.121905\n",
      "Sunday        99.551429\n",
      "Thursday     102.267619\n",
      "Tuesday       74.028636\n",
      "Wednesday     96.071905\n",
      "Name: total_amount, dtype: float64\n"
     ]
    }
   ],
   "source": [
    "#Find the average transaction amount by day of the week\n",
    "#group by existing \"day_of_week\" column to calculate the average transaction amount by day of the week\n",
    "average_transaction_by_day = sales_df.groupby('day_of_week')['total_amount'].mean().sort_index()\n",
    "print(average_transaction_by_day)"
   ]
  },
  {
   "cell_type": "code",
   "execution_count": 58,
   "id": "d5e113e1-2454-4616-a443-d195fcf533bb",
   "metadata": {},
   "outputs": [],
   "source": [
    "#Determine which product category generates the most total revenue\n",
    "#Step 1: Merge sales with products to get category info\n",
    "sales_with_category = sales_df.merge(products_df[['product_id', 'category']], on='product_id', how='left')"
   ]
  },
  {
   "cell_type": "code",
   "execution_count": 59,
   "id": "f01d4202-d599-4691-aba8-6a9faf2a5e5c",
   "metadata": {},
   "outputs": [
    {
     "name": "stdout",
     "output_type": "stream",
     "text": [
      "Total revenue by product category:\n",
      "category\n",
      "Sports & Outdoors    3544.64\n",
      "Electronics          3524.29\n",
      "Clothing             2745.39\n",
      "Accessories          2053.25\n",
      "Home & Garden        1541.46\n",
      "Name: total_amount, dtype: float64\n"
     ]
    }
   ],
   "source": [
    "# Step 2: Group by category and sum total_amount\n",
    "revenue_by_category = sales_with_category.groupby('category')['total_amount'].sum().sort_values(ascending=False)\n",
    "print(\"Total revenue by product category:\")\n",
    "print(revenue_by_category)"
   ]
  },
  {
   "cell_type": "code",
   "execution_count": 69,
   "id": "497803ad-b2aa-462e-8cae-5aba26030b47",
   "metadata": {},
   "outputs": [],
   "source": [
    "#Part 3: Basic Data Insights\n",
    "#Find which state has the most customers\n",
    "#1.Count customers per state\n",
    "state_counts = customers_df['state'].value_counts()"
   ]
  },
  {
   "cell_type": "code",
   "execution_count": 73,
   "id": "9e2c8639-2387-43a2-9efb-ece8bb89bbfb",
   "metadata": {},
   "outputs": [],
   "source": [
    "#2 Show the state with the most customers\n",
    "# Get the max count\n",
    "max_count = state_counts.max()"
   ]
  },
  {
   "cell_type": "code",
   "execution_count": 72,
   "id": "85f2e71d-7686-46dd-abe6-7ce543cf162e",
   "metadata": {},
   "outputs": [
    {
     "name": "stdout",
     "output_type": "stream",
     "text": [
      "States with the most customers:\n",
      "state\n",
      "CA    20\n",
      "NY    20\n",
      "TX    20\n",
      "FL    20\n",
      "IL    20\n",
      "Name: count, dtype: int64\n"
     ]
    }
   ],
   "source": [
    "# Filter all states with that count\n",
    "top_states = state_counts[state_counts == max_count]\n",
    "print(\"States with the most customers:\")\n",
    "print(top_states)"
   ]
  },
  {
   "cell_type": "code",
   "execution_count": 74,
   "id": "0b538318-51e8-42a8-91e5-0fe7e0f19b31",
   "metadata": {},
   "outputs": [],
   "source": [
    "#Identify the top 5 customers by total spending\n",
    "#Step 1: find total spending per customer\n",
    "customer_spending = sales_df.groupby('customer_id')['total_amount'].sum().reset_index()"
   ]
  },
  {
   "cell_type": "code",
   "execution_count": 75,
   "id": "506f5b4d-67e6-4d40-93a2-f3faf9ebec8d",
   "metadata": {},
   "outputs": [],
   "source": [
    "#Step 2: Merge with customer details\n",
    "top_customers = customer_spending.merge(customers_df, on='customer_id', how='left')\n"
   ]
  },
  {
   "cell_type": "code",
   "execution_count": 76,
   "id": "aeff3e0c-a4d8-4a21-9c11-93d53c3d07dd",
   "metadata": {},
   "outputs": [
    {
     "name": "stdout",
     "output_type": "stream",
     "text": [
      "    customer_id first_name last_name  total_amount\n",
      "30           31     Daniel  Gonzalez        379.97\n",
      "12           13    Matthew    Harris        359.96\n",
      "40           41     Joseph     Evans        329.98\n",
      "83           84     Janice  Gonzales        319.98\n",
      "29           30   Kimberly     Baker        284.98\n"
     ]
    }
   ],
   "source": [
    "# Step 3: Sort and select top 5\n",
    "top_5_customers = top_customers.sort_values(by='total_amount', ascending=False).head(5)\n",
    "print(top_5_customers[['customer_id', 'first_name', 'last_name', 'total_amount']])\n"
   ]
  },
  {
   "cell_type": "code",
   "execution_count": 78,
   "id": "fcc40957-8805-44f7-8295-951df3a79ae1",
   "metadata": {},
   "outputs": [
    {
     "name": "stdout",
     "output_type": "stream",
     "text": [
      "The highest average transaction value is on Thursday ($102.27).\n"
     ]
    }
   ],
   "source": [
    "#Determine which day of the week has the highest average transaction value\n",
    "# Let's use the existing \"average_transaction_by_day\" to find the highest average trasaction value\n",
    "# Find the top day\n",
    "top_day = average_transaction_by_day.idxmax()\n",
    "top_value = average_transaction_by_day.max()\n",
    "print(f\"The highest average transaction value is on {top_day} (${top_value:.2f}).\")\n"
   ]
  },
  {
   "cell_type": "code",
   "execution_count": null,
   "id": "305832aa-9e05-4200-9ac1-c335987d3525",
   "metadata": {},
   "outputs": [],
   "source": []
  }
 ],
 "metadata": {
  "kernelspec": {
   "display_name": "Python 3 (ipykernel)",
   "language": "python",
   "name": "python3"
  },
  "language_info": {
   "codemirror_mode": {
    "name": "ipython",
    "version": 3
   },
   "file_extension": ".py",
   "mimetype": "text/x-python",
   "name": "python",
   "nbconvert_exporter": "python",
   "pygments_lexer": "ipython3",
   "version": "3.13.5"
  }
 },
 "nbformat": 4,
 "nbformat_minor": 5
}
