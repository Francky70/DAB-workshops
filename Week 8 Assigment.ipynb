{
 "cells": [
  {
   "cell_type": "markdown",
   "id": "80b4594d-2f9c-460d-8231-67d7de61a562",
   "metadata": {},
   "source": [
    "###### Francky Ciceron\n",
    "###### Week 8 Assignment\n",
    "###### Pandas Retail Store Analysis"
   ]
  },
  {
   "cell_type": "code",
   "execution_count": 1,
   "id": "ea5ea12b-ddeb-4478-9f79-3d0f62db1040",
   "metadata": {},
   "outputs": [],
   "source": [
    "import pandas as pd\n",
    "import glob"
   ]
  },
  {
   "cell_type": "code",
   "execution_count": 2,
   "id": "869628e1-06fd-45b7-ae01-f94da5283724",
   "metadata": {},
   "outputs": [],
   "source": [
    "#1. Get all CSV file paths from a folder\n",
    "csv_files = glob.glob(\"*.csv\")"
   ]
  },
  {
   "cell_type": "code",
   "execution_count": 3,
   "id": "b9ad9296-e008-4df2-a96f-57fa0f54bca9",
   "metadata": {},
   "outputs": [],
   "source": [
    "#2. Create a dictionary of DataFrames\n",
    "dataframes = {file: pd.read_csv(file) for file in csv_files}\n"
   ]
  },
  {
   "cell_type": "code",
   "execution_count": 4,
   "id": "dc4e72bc-26d3-4ab5-b35f-db98ccd9a2ba",
   "metadata": {},
   "outputs": [
    {
     "name": "stdout",
     "output_type": "stream",
     "text": [
      "\n",
      "--- wk8-customers.csv ---\n",
      "   customer_id first_name last_name                  email           phone  \\\n",
      "0            1      James     Smith  james.smith@gmail.com    555-123-4567   \n",
      "1            2       Mary   Johnson                    NaN    212.555.6789   \n",
      "2            3       John  Williams    jwilliams@yahoo.com  (555) 987-6543   \n",
      "3            4   Patricia     Brown     pbrown@hotmail.com      5551234567   \n",
      "4            5     Robert     Jones     rjones23@gmail.com    555-987-3456   \n",
      "\n",
      "        address         city       state    zip_code registration_date  \n",
      "0   123 Main St     New York          NY       10001        2021-03-15  \n",
      "1  456 Park Ave     New York          NY       10022        2020-11-02  \n",
      "2  789 Broadway  Los Angeles  California  90001-1234        2021-05-20  \n",
      "3    321 Elm St      Chicago          IL       60601               NaN  \n",
      "4   555 Pine St      Houston          TX       77002        2020-09-12  \n",
      "\n",
      "--- wk8-inventory.csv ---\n",
      "   inventory_id  store_id  product_id  quantity_in_stock last_restock_date  \\\n",
      "0             1         1           1                 25        2022-10-15   \n",
      "1             2         1           5                 42        2022-11-02   \n",
      "2             3         1          10                 18        2022-09-30   \n",
      "3             4         1          15                  5        2022-10-20   \n",
      "4             5         1          20                 12               NaN   \n",
      "\n",
      "   reorder_level  \n",
      "0           10.0  \n",
      "1           15.0  \n",
      "2            8.0  \n",
      "3           10.0  \n",
      "4           15.0  \n",
      "\n",
      "--- wk8-products.csv ---\n",
      "   product_id        product_name     category  subcategory    brand    price  \\\n",
      "0           1     Apple iPhone 13  Electronics  Smartphones    Apple   899.99   \n",
      "1           2  Samsung Galaxy S21  electronics  Smartphones  Samsung   799.99   \n",
      "2           3     Sony WH-1000XM4  ELECTRONICS   Headphones     Sony   349.99   \n",
      "3           4         Dell XPS 13  Electronics      Laptops     Dell  1299.99   \n",
      "4           5    Nike Classic Tee     Clothing       Shirts     Nike    24.99   \n",
      "\n",
      "     cost  weight  \n",
      "0  649.99    0.45  \n",
      "1  539.99    0.50  \n",
      "2  210.00    0.60  \n",
      "3  899.99    2.80  \n",
      "4   12.50    0.20  \n",
      "\n",
      "--- wk8-sales.csv ---\n",
      "   sale_id        date  store_id  customer_id  product_id  quantity    total  \\\n",
      "0        1  2022-01-15       3.0           12           5         2    49.98   \n",
      "1        2  2022-01-16       1.0            5          10         1    49.99   \n",
      "2        3  2022-01-18       2.0            8           3         1   349.99   \n",
      "3        4  2022-01-20       4.0           20           7         1   349.99   \n",
      "4        5  2022-01-22       5.0            3          15         1  1599.99   \n",
      "\n",
      "  payment_method  \n",
      "0    Credit Card  \n",
      "1    credit card  \n",
      "2     DEBIT CARD  \n",
      "3           Cash  \n",
      "4             CC  \n",
      "\n",
      "--- wk8-stores.csv ---\n",
      "   store_id         store_name           address         city  state zip_code  \\\n",
      "0         1        City Center   123 Retail Blvd     New York     NY    10001   \n",
      "1         2    Mall of Chicago  456 Shopping Ave      Chicago     IL    60611   \n",
      "2         3  Los Angeles Plaza   789 Commerce St  Los Angeles     CA    90001   \n",
      "3         4   Houston Galleria       321 Main St      Houston  Texas    77002   \n",
      "4         5     Phoenix Outlet     654 Desert Rd      Phoenix     AZ    85001   \n",
      "\n",
      "      region  size_sqft opening_date  \n",
      "0  Northeast    32500.0   2005-05-20  \n",
      "1    Midwest    45000.0   2007-08-15  \n",
      "2       West    55000.0   2004-03-10  \n",
      "3  Southwest        NaN   2008-11-05  \n",
      "4  Southwest    18500.0   2010-06-30  \n"
     ]
    }
   ],
   "source": [
    "#3. Display the first few rows of each DataFrame\n",
    "for file, df in dataframes.items():\n",
    "    print(f\"\\n--- {file} ---\")\n",
    "    print(df.head())"
   ]
  },
  {
   "cell_type": "code",
   "execution_count": 5,
   "id": "6f2f4cf9-73ad-4a8c-9f2c-b68da51169a7",
   "metadata": {},
   "outputs": [
    {
     "name": "stdout",
     "output_type": "stream",
     "text": [
      "dict_keys(['wk8-customers.csv', 'wk8-inventory.csv', 'wk8-products.csv', 'wk8-sales.csv', 'wk8-stores.csv'])\n"
     ]
    }
   ],
   "source": [
    "# See all keys (file names)\n",
    "print(dataframes.keys())"
   ]
  },
  {
   "cell_type": "code",
   "execution_count": 5,
   "id": "4dace3d0-c1dd-47b8-9779-4457385f62cd",
   "metadata": {},
   "outputs": [],
   "source": [
    "inventory_df = dataframes[\"wk8-inventory.csv\"]\n",
    "sales_df = dataframes[\"wk8-sales.csv\"]\n",
    "stores_df = dataframes[\"wk8-stores.csv\"]\n",
    "customers_df = dataframes[\"wk8-customers.csv\"]\n",
    "products_df = dataframes[\"wk8-products.csv\"]"
   ]
  },
  {
   "cell_type": "code",
   "execution_count": 7,
   "id": "9c958bf3-2876-4816-a18c-de7f0259bd1f",
   "metadata": {},
   "outputs": [
    {
     "name": "stdout",
     "output_type": "stream",
     "text": [
      "   inventory_id  store_id  product_id  quantity_in_stock last_restock_date  \\\n",
      "0             1         1           1                 25        2022-10-15   \n",
      "1             2         1           5                 42        2022-11-02   \n",
      "2             3         1          10                 18        2022-09-30   \n",
      "3             4         1          15                  5        2022-10-20   \n",
      "4             5         1          20                 12               NaN   \n",
      "\n",
      "   reorder_level  \n",
      "0           10.0  \n",
      "1           15.0  \n",
      "2            8.0  \n",
      "3           10.0  \n",
      "4           15.0  \n",
      "   sale_id        date  store_id  customer_id  product_id  quantity    total  \\\n",
      "0        1  2022-01-15       3.0           12           5         2    49.98   \n",
      "1        2  2022-01-16       1.0            5          10         1    49.99   \n",
      "2        3  2022-01-18       2.0            8           3         1   349.99   \n",
      "3        4  2022-01-20       4.0           20           7         1   349.99   \n",
      "4        5  2022-01-22       5.0            3          15         1  1599.99   \n",
      "\n",
      "  payment_method  \n",
      "0    Credit Card  \n",
      "1    credit card  \n",
      "2     DEBIT CARD  \n",
      "3           Cash  \n",
      "4             CC  \n",
      "   store_id         store_name           address         city  state zip_code  \\\n",
      "0         1        City Center   123 Retail Blvd     New York     NY    10001   \n",
      "1         2    Mall of Chicago  456 Shopping Ave      Chicago     IL    60611   \n",
      "2         3  Los Angeles Plaza   789 Commerce St  Los Angeles     CA    90001   \n",
      "3         4   Houston Galleria       321 Main St      Houston  Texas    77002   \n",
      "4         5     Phoenix Outlet     654 Desert Rd      Phoenix     AZ    85001   \n",
      "\n",
      "      region  size_sqft opening_date  \n",
      "0  Northeast    32500.0   2005-05-20  \n",
      "1    Midwest    45000.0   2007-08-15  \n",
      "2       West    55000.0   2004-03-10  \n",
      "3  Southwest        NaN   2008-11-05  \n",
      "4  Southwest    18500.0   2010-06-30  \n",
      "   customer_id first_name last_name                  email           phone  \\\n",
      "0            1      James     Smith  james.smith@gmail.com    555-123-4567   \n",
      "1            2       Mary   Johnson                    NaN    212.555.6789   \n",
      "2            3       John  Williams    jwilliams@yahoo.com  (555) 987-6543   \n",
      "3            4   Patricia     Brown     pbrown@hotmail.com      5551234567   \n",
      "4            5     Robert     Jones     rjones23@gmail.com    555-987-3456   \n",
      "\n",
      "        address         city       state    zip_code registration_date  \n",
      "0   123 Main St     New York          NY       10001        2021-03-15  \n",
      "1  456 Park Ave     New York          NY       10022        2020-11-02  \n",
      "2  789 Broadway  Los Angeles  California  90001-1234        2021-05-20  \n",
      "3    321 Elm St      Chicago          IL       60601               NaN  \n",
      "4   555 Pine St      Houston          TX       77002        2020-09-12  \n",
      "   product_id        product_name     category  subcategory    brand    price  \\\n",
      "0           1     Apple iPhone 13  Electronics  Smartphones    Apple   899.99   \n",
      "1           2  Samsung Galaxy S21  electronics  Smartphones  Samsung   799.99   \n",
      "2           3     Sony WH-1000XM4  ELECTRONICS   Headphones     Sony   349.99   \n",
      "3           4         Dell XPS 13  Electronics      Laptops     Dell  1299.99   \n",
      "4           5    Nike Classic Tee     Clothing       Shirts     Nike    24.99   \n",
      "\n",
      "     cost  weight  \n",
      "0  649.99    0.45  \n",
      "1  539.99    0.50  \n",
      "2  210.00    0.60  \n",
      "3  899.99    2.80  \n",
      "4   12.50    0.20  \n"
     ]
    }
   ],
   "source": [
    "# check first rows to make sure everything loaded correctly\n",
    "print(inventory_df.head())\n",
    "print(sales_df.head())\n",
    "print(stores_df.head())\n",
    "print(customers_df.head())\n",
    "print(products_df.head())"
   ]
  },
  {
   "cell_type": "code",
   "execution_count": 8,
   "id": "848cedc8-587a-4e82-bd29-033614c55f4a",
   "metadata": {},
   "outputs": [
    {
     "name": "stdout",
     "output_type": "stream",
     "text": [
      "<class 'pandas.core.frame.DataFrame'>\n",
      "RangeIndex: 30 entries, 0 to 29\n",
      "Data columns (total 8 columns):\n",
      " #   Column        Non-Null Count  Dtype  \n",
      "---  ------        --------------  -----  \n",
      " 0   product_id    30 non-null     int64  \n",
      " 1   product_name  30 non-null     object \n",
      " 2   category      30 non-null     object \n",
      " 3   subcategory   30 non-null     object \n",
      " 4   brand         30 non-null     object \n",
      " 5   price         30 non-null     float64\n",
      " 6   cost          30 non-null     float64\n",
      " 7   weight        28 non-null     float64\n",
      "dtypes: float64(3), int64(1), object(4)\n",
      "memory usage: 2.0+ KB\n"
     ]
    }
   ],
   "source": [
    "#Look at the Products Data Frame\n",
    "products_df.info()"
   ]
  },
  {
   "cell_type": "code",
   "execution_count": 9,
   "id": "26599921-1001-4970-a4b8-1e06e1ccd3e7",
   "metadata": {},
   "outputs": [
    {
     "name": "stdout",
     "output_type": "stream",
     "text": [
      "<class 'pandas.core.frame.DataFrame'>\n",
      "RangeIndex: 40 entries, 0 to 39\n",
      "Data columns (total 8 columns):\n",
      " #   Column          Non-Null Count  Dtype  \n",
      "---  ------          --------------  -----  \n",
      " 0   sale_id         40 non-null     int64  \n",
      " 1   date            39 non-null     object \n",
      " 2   store_id        39 non-null     float64\n",
      " 3   customer_id     40 non-null     int64  \n",
      " 4   product_id      40 non-null     int64  \n",
      " 5   quantity        40 non-null     int64  \n",
      " 6   total           40 non-null     float64\n",
      " 7   payment_method  39 non-null     object \n",
      "dtypes: float64(2), int64(4), object(2)\n",
      "memory usage: 2.6+ KB\n"
     ]
    }
   ],
   "source": [
    "#Look at the sales Data Frame\n",
    "sales_df.info()"
   ]
  },
  {
   "cell_type": "code",
   "execution_count": 10,
   "id": "1c24a1bf-32b3-486d-aab2-250e24fa80bd",
   "metadata": {},
   "outputs": [
    {
     "name": "stdout",
     "output_type": "stream",
     "text": [
      "<class 'pandas.core.frame.DataFrame'>\n",
      "RangeIndex: 75 entries, 0 to 74\n",
      "Data columns (total 6 columns):\n",
      " #   Column             Non-Null Count  Dtype  \n",
      "---  ------             --------------  -----  \n",
      " 0   inventory_id       75 non-null     int64  \n",
      " 1   store_id           75 non-null     int64  \n",
      " 2   product_id         75 non-null     int64  \n",
      " 3   quantity_in_stock  75 non-null     int64  \n",
      " 4   last_restock_date  66 non-null     object \n",
      " 5   reorder_level      69 non-null     float64\n",
      "dtypes: float64(1), int64(4), object(1)\n",
      "memory usage: 3.6+ KB\n"
     ]
    }
   ],
   "source": [
    "#Look at the inventory Data Frame\n",
    "inventory_df.info()"
   ]
  },
  {
   "cell_type": "code",
   "execution_count": 11,
   "id": "e93c7653-36d8-4abc-926a-884e58924ce3",
   "metadata": {},
   "outputs": [
    {
     "name": "stdout",
     "output_type": "stream",
     "text": [
      "<class 'pandas.core.frame.DataFrame'>\n",
      "RangeIndex: 15 entries, 0 to 14\n",
      "Data columns (total 9 columns):\n",
      " #   Column        Non-Null Count  Dtype  \n",
      "---  ------        --------------  -----  \n",
      " 0   store_id      15 non-null     int64  \n",
      " 1   store_name    15 non-null     object \n",
      " 2   address       15 non-null     object \n",
      " 3   city          15 non-null     object \n",
      " 4   state         15 non-null     object \n",
      " 5   zip_code      15 non-null     object \n",
      " 6   region        15 non-null     object \n",
      " 7   size_sqft     13 non-null     float64\n",
      " 8   opening_date  14 non-null     object \n",
      "dtypes: float64(1), int64(1), object(7)\n",
      "memory usage: 1.2+ KB\n"
     ]
    }
   ],
   "source": [
    "#Look at the stores Data Frame\n",
    "stores_df.info()"
   ]
  },
  {
   "cell_type": "code",
   "execution_count": 12,
   "id": "53950eb2-9fcd-40eb-b6cf-54efcfc43655",
   "metadata": {},
   "outputs": [
    {
     "name": "stdout",
     "output_type": "stream",
     "text": [
      "<class 'pandas.core.frame.DataFrame'>\n",
      "RangeIndex: 31 entries, 0 to 30\n",
      "Data columns (total 10 columns):\n",
      " #   Column             Non-Null Count  Dtype \n",
      "---  ------             --------------  ----- \n",
      " 0   customer_id        31 non-null     int64 \n",
      " 1   first_name         31 non-null     object\n",
      " 2   last_name          31 non-null     object\n",
      " 3   email              28 non-null     object\n",
      " 4   phone              29 non-null     object\n",
      " 5   address            31 non-null     object\n",
      " 6   city               31 non-null     object\n",
      " 7   state              31 non-null     object\n",
      " 8   zip_code           30 non-null     object\n",
      " 9   registration_date  28 non-null     object\n",
      "dtypes: int64(1), object(9)\n",
      "memory usage: 2.6+ KB\n"
     ]
    }
   ],
   "source": [
    "#Look at the customers Data Frame\n",
    "customers_df.info()"
   ]
  },
  {
   "cell_type": "code",
   "execution_count": 13,
   "id": "d3dafcc5-3a4e-4958-919c-3ef4cceedaba",
   "metadata": {},
   "outputs": [
    {
     "data": {
      "text/html": [
       "<div>\n",
       "<style scoped>\n",
       "    .dataframe tbody tr th:only-of-type {\n",
       "        vertical-align: middle;\n",
       "    }\n",
       "\n",
       "    .dataframe tbody tr th {\n",
       "        vertical-align: top;\n",
       "    }\n",
       "\n",
       "    .dataframe thead th {\n",
       "        text-align: right;\n",
       "    }\n",
       "</style>\n",
       "<table border=\"1\" class=\"dataframe\">\n",
       "  <thead>\n",
       "    <tr style=\"text-align: right;\">\n",
       "      <th></th>\n",
       "      <th>product_id</th>\n",
       "      <th>price</th>\n",
       "      <th>cost</th>\n",
       "      <th>weight</th>\n",
       "    </tr>\n",
       "  </thead>\n",
       "  <tbody>\n",
       "    <tr>\n",
       "      <th>count</th>\n",
       "      <td>30.000000</td>\n",
       "      <td>30.000000</td>\n",
       "      <td>30.000000</td>\n",
       "      <td>28.000000</td>\n",
       "    </tr>\n",
       "    <tr>\n",
       "      <th>mean</th>\n",
       "      <td>15.500000</td>\n",
       "      <td>191.724000</td>\n",
       "      <td>203.159000</td>\n",
       "      <td>3.835714</td>\n",
       "    </tr>\n",
       "    <tr>\n",
       "      <th>std</th>\n",
       "      <td>8.803408</td>\n",
       "      <td>452.483576</td>\n",
       "      <td>278.924138</td>\n",
       "      <td>5.693236</td>\n",
       "    </tr>\n",
       "    <tr>\n",
       "      <th>min</th>\n",
       "      <td>1.000000</td>\n",
       "      <td>-1599.990000</td>\n",
       "      <td>1.800000</td>\n",
       "      <td>0.200000</td>\n",
       "    </tr>\n",
       "    <tr>\n",
       "      <th>25%</th>\n",
       "      <td>8.250000</td>\n",
       "      <td>46.990000</td>\n",
       "      <td>28.375000</td>\n",
       "      <td>0.500000</td>\n",
       "    </tr>\n",
       "    <tr>\n",
       "      <th>50%</th>\n",
       "      <td>15.500000</td>\n",
       "      <td>134.990000</td>\n",
       "      <td>82.500000</td>\n",
       "      <td>1.150000</td>\n",
       "    </tr>\n",
       "    <tr>\n",
       "      <th>75%</th>\n",
       "      <td>22.750000</td>\n",
       "      <td>322.490000</td>\n",
       "      <td>236.250000</td>\n",
       "      <td>3.750000</td>\n",
       "    </tr>\n",
       "    <tr>\n",
       "      <th>max</th>\n",
       "      <td>30.000000</td>\n",
       "      <td>1299.990000</td>\n",
       "      <td>1100.000000</td>\n",
       "      <td>25.000000</td>\n",
       "    </tr>\n",
       "  </tbody>\n",
       "</table>\n",
       "</div>"
      ],
      "text/plain": [
       "       product_id        price         cost     weight\n",
       "count   30.000000    30.000000    30.000000  28.000000\n",
       "mean    15.500000   191.724000   203.159000   3.835714\n",
       "std      8.803408   452.483576   278.924138   5.693236\n",
       "min      1.000000 -1599.990000     1.800000   0.200000\n",
       "25%      8.250000    46.990000    28.375000   0.500000\n",
       "50%     15.500000   134.990000    82.500000   1.150000\n",
       "75%     22.750000   322.490000   236.250000   3.750000\n",
       "max     30.000000  1299.990000  1100.000000  25.000000"
      ]
     },
     "execution_count": 13,
     "metadata": {},
     "output_type": "execute_result"
    }
   ],
   "source": [
    "# summary statistics of the products table\n",
    "products_df.describe()"
   ]
  },
  {
   "cell_type": "code",
   "execution_count": 14,
   "id": "5c05a24b-5ccb-4b44-b5a0-c035d989c032",
   "metadata": {},
   "outputs": [
    {
     "data": {
      "text/html": [
       "<div>\n",
       "<style scoped>\n",
       "    .dataframe tbody tr th:only-of-type {\n",
       "        vertical-align: middle;\n",
       "    }\n",
       "\n",
       "    .dataframe tbody tr th {\n",
       "        vertical-align: top;\n",
       "    }\n",
       "\n",
       "    .dataframe thead th {\n",
       "        text-align: right;\n",
       "    }\n",
       "</style>\n",
       "<table border=\"1\" class=\"dataframe\">\n",
       "  <thead>\n",
       "    <tr style=\"text-align: right;\">\n",
       "      <th></th>\n",
       "      <th>sale_id</th>\n",
       "      <th>store_id</th>\n",
       "      <th>customer_id</th>\n",
       "      <th>product_id</th>\n",
       "      <th>quantity</th>\n",
       "      <th>total</th>\n",
       "    </tr>\n",
       "  </thead>\n",
       "  <tbody>\n",
       "    <tr>\n",
       "      <th>count</th>\n",
       "      <td>40.000000</td>\n",
       "      <td>39.000000</td>\n",
       "      <td>40.000000</td>\n",
       "      <td>40.000000</td>\n",
       "      <td>40.000000</td>\n",
       "      <td>40.000000</td>\n",
       "    </tr>\n",
       "    <tr>\n",
       "      <th>mean</th>\n",
       "      <td>20.500000</td>\n",
       "      <td>6.487179</td>\n",
       "      <td>14.075000</td>\n",
       "      <td>13.500000</td>\n",
       "      <td>1.625000</td>\n",
       "      <td>352.296500</td>\n",
       "    </tr>\n",
       "    <tr>\n",
       "      <th>std</th>\n",
       "      <td>11.690452</td>\n",
       "      <td>4.235637</td>\n",
       "      <td>8.303189</td>\n",
       "      <td>8.857852</td>\n",
       "      <td>0.952392</td>\n",
       "      <td>377.625776</td>\n",
       "    </tr>\n",
       "    <tr>\n",
       "      <th>min</th>\n",
       "      <td>1.000000</td>\n",
       "      <td>1.000000</td>\n",
       "      <td>1.000000</td>\n",
       "      <td>1.000000</td>\n",
       "      <td>1.000000</td>\n",
       "      <td>19.980000</td>\n",
       "    </tr>\n",
       "    <tr>\n",
       "      <th>25%</th>\n",
       "      <td>10.750000</td>\n",
       "      <td>3.000000</td>\n",
       "      <td>6.750000</td>\n",
       "      <td>5.750000</td>\n",
       "      <td>1.000000</td>\n",
       "      <td>99.737500</td>\n",
       "    </tr>\n",
       "    <tr>\n",
       "      <th>50%</th>\n",
       "      <td>20.500000</td>\n",
       "      <td>6.000000</td>\n",
       "      <td>13.500000</td>\n",
       "      <td>11.500000</td>\n",
       "      <td>1.000000</td>\n",
       "      <td>229.985000</td>\n",
       "    </tr>\n",
       "    <tr>\n",
       "      <th>75%</th>\n",
       "      <td>30.250000</td>\n",
       "      <td>9.500000</td>\n",
       "      <td>20.250000</td>\n",
       "      <td>21.250000</td>\n",
       "      <td>2.000000</td>\n",
       "      <td>352.487500</td>\n",
       "    </tr>\n",
       "    <tr>\n",
       "      <th>max</th>\n",
       "      <td>40.000000</td>\n",
       "      <td>15.000000</td>\n",
       "      <td>29.000000</td>\n",
       "      <td>30.000000</td>\n",
       "      <td>5.000000</td>\n",
       "      <td>1599.990000</td>\n",
       "    </tr>\n",
       "  </tbody>\n",
       "</table>\n",
       "</div>"
      ],
      "text/plain": [
       "         sale_id   store_id  customer_id  product_id   quantity        total\n",
       "count  40.000000  39.000000    40.000000   40.000000  40.000000    40.000000\n",
       "mean   20.500000   6.487179    14.075000   13.500000   1.625000   352.296500\n",
       "std    11.690452   4.235637     8.303189    8.857852   0.952392   377.625776\n",
       "min     1.000000   1.000000     1.000000    1.000000   1.000000    19.980000\n",
       "25%    10.750000   3.000000     6.750000    5.750000   1.000000    99.737500\n",
       "50%    20.500000   6.000000    13.500000   11.500000   1.000000   229.985000\n",
       "75%    30.250000   9.500000    20.250000   21.250000   2.000000   352.487500\n",
       "max    40.000000  15.000000    29.000000   30.000000   5.000000  1599.990000"
      ]
     },
     "execution_count": 14,
     "metadata": {},
     "output_type": "execute_result"
    }
   ],
   "source": [
    "# summary statistics of the Sales table\n",
    "sales_df.describe()"
   ]
  },
  {
   "cell_type": "code",
   "execution_count": 15,
   "id": "2b0efa5c-342a-4bf6-9b89-c8a6f9d9a6e6",
   "metadata": {},
   "outputs": [
    {
     "data": {
      "text/html": [
       "<div>\n",
       "<style scoped>\n",
       "    .dataframe tbody tr th:only-of-type {\n",
       "        vertical-align: middle;\n",
       "    }\n",
       "\n",
       "    .dataframe tbody tr th {\n",
       "        vertical-align: top;\n",
       "    }\n",
       "\n",
       "    .dataframe thead th {\n",
       "        text-align: right;\n",
       "    }\n",
       "</style>\n",
       "<table border=\"1\" class=\"dataframe\">\n",
       "  <thead>\n",
       "    <tr style=\"text-align: right;\">\n",
       "      <th></th>\n",
       "      <th>inventory_id</th>\n",
       "      <th>store_id</th>\n",
       "      <th>product_id</th>\n",
       "      <th>quantity_in_stock</th>\n",
       "      <th>reorder_level</th>\n",
       "    </tr>\n",
       "  </thead>\n",
       "  <tbody>\n",
       "    <tr>\n",
       "      <th>count</th>\n",
       "      <td>75.000000</td>\n",
       "      <td>75.000000</td>\n",
       "      <td>75.000000</td>\n",
       "      <td>75.000000</td>\n",
       "      <td>69.000000</td>\n",
       "    </tr>\n",
       "    <tr>\n",
       "      <th>mean</th>\n",
       "      <td>38.000000</td>\n",
       "      <td>8.000000</td>\n",
       "      <td>12.733333</td>\n",
       "      <td>22.640000</td>\n",
       "      <td>12.681159</td>\n",
       "    </tr>\n",
       "    <tr>\n",
       "      <th>std</th>\n",
       "      <td>21.794495</td>\n",
       "      <td>4.349588</td>\n",
       "      <td>7.179801</td>\n",
       "      <td>13.923187</td>\n",
       "      <td>3.327659</td>\n",
       "    </tr>\n",
       "    <tr>\n",
       "      <th>min</th>\n",
       "      <td>1.000000</td>\n",
       "      <td>1.000000</td>\n",
       "      <td>1.000000</td>\n",
       "      <td>0.000000</td>\n",
       "      <td>8.000000</td>\n",
       "    </tr>\n",
       "    <tr>\n",
       "      <th>25%</th>\n",
       "      <td>19.500000</td>\n",
       "      <td>4.000000</td>\n",
       "      <td>6.500000</td>\n",
       "      <td>15.000000</td>\n",
       "      <td>10.000000</td>\n",
       "    </tr>\n",
       "    <tr>\n",
       "      <th>50%</th>\n",
       "      <td>38.000000</td>\n",
       "      <td>8.000000</td>\n",
       "      <td>13.000000</td>\n",
       "      <td>25.000000</td>\n",
       "      <td>10.000000</td>\n",
       "    </tr>\n",
       "    <tr>\n",
       "      <th>75%</th>\n",
       "      <td>56.500000</td>\n",
       "      <td>12.000000</td>\n",
       "      <td>19.000000</td>\n",
       "      <td>33.500000</td>\n",
       "      <td>15.000000</td>\n",
       "    </tr>\n",
       "    <tr>\n",
       "      <th>max</th>\n",
       "      <td>75.000000</td>\n",
       "      <td>15.000000</td>\n",
       "      <td>25.000000</td>\n",
       "      <td>45.000000</td>\n",
       "      <td>20.000000</td>\n",
       "    </tr>\n",
       "  </tbody>\n",
       "</table>\n",
       "</div>"
      ],
      "text/plain": [
       "       inventory_id   store_id  product_id  quantity_in_stock  reorder_level\n",
       "count     75.000000  75.000000   75.000000          75.000000      69.000000\n",
       "mean      38.000000   8.000000   12.733333          22.640000      12.681159\n",
       "std       21.794495   4.349588    7.179801          13.923187       3.327659\n",
       "min        1.000000   1.000000    1.000000           0.000000       8.000000\n",
       "25%       19.500000   4.000000    6.500000          15.000000      10.000000\n",
       "50%       38.000000   8.000000   13.000000          25.000000      10.000000\n",
       "75%       56.500000  12.000000   19.000000          33.500000      15.000000\n",
       "max       75.000000  15.000000   25.000000          45.000000      20.000000"
      ]
     },
     "execution_count": 15,
     "metadata": {},
     "output_type": "execute_result"
    }
   ],
   "source": [
    "# summary statistics of the inventory table\n",
    "inventory_df.describe()"
   ]
  },
  {
   "cell_type": "code",
   "execution_count": 16,
   "id": "45f1ec56-b617-4c5e-a5d2-db674411cb2d",
   "metadata": {},
   "outputs": [
    {
     "data": {
      "text/plain": [
       "inventory_id         0\n",
       "store_id             0\n",
       "product_id           0\n",
       "quantity_in_stock    0\n",
       "last_restock_date    9\n",
       "reorder_level        6\n",
       "dtype: int64"
      ]
     },
     "execution_count": 16,
     "metadata": {},
     "output_type": "execute_result"
    }
   ],
   "source": [
    "#check for missing values in inventory data frame\n",
    "inventory_df.isnull().sum()"
   ]
  },
  {
   "cell_type": "code",
   "execution_count": 17,
   "id": "91c96475-bc53-45dd-b38d-aa49d8d1d335",
   "metadata": {},
   "outputs": [
    {
     "data": {
      "text/plain": [
       "product_id      0\n",
       "product_name    0\n",
       "category        0\n",
       "subcategory     0\n",
       "brand           0\n",
       "price           0\n",
       "cost            0\n",
       "weight          2\n",
       "dtype: int64"
      ]
     },
     "execution_count": 17,
     "metadata": {},
     "output_type": "execute_result"
    }
   ],
   "source": [
    "#check for missing values in products data frame\n",
    "products_df.isnull().sum()"
   ]
  },
  {
   "cell_type": "code",
   "execution_count": 18,
   "id": "e306ff30-2113-4f6c-b6c7-4e22ec16cb81",
   "metadata": {},
   "outputs": [
    {
     "data": {
      "text/plain": [
       "sale_id           0\n",
       "date              1\n",
       "store_id          1\n",
       "customer_id       0\n",
       "product_id        0\n",
       "quantity          0\n",
       "total             0\n",
       "payment_method    1\n",
       "dtype: int64"
      ]
     },
     "execution_count": 18,
     "metadata": {},
     "output_type": "execute_result"
    }
   ],
   "source": [
    "#check for missing values in sales data frame\n",
    "sales_df.isnull().sum()"
   ]
  },
  {
   "cell_type": "code",
   "execution_count": 19,
   "id": "099be8f4-c3c1-4e6d-9867-0f9c853e5c32",
   "metadata": {},
   "outputs": [
    {
     "data": {
      "text/plain": [
       "store_id        0\n",
       "store_name      0\n",
       "address         0\n",
       "city            0\n",
       "state           0\n",
       "zip_code        0\n",
       "region          0\n",
       "size_sqft       2\n",
       "opening_date    1\n",
       "dtype: int64"
      ]
     },
     "execution_count": 19,
     "metadata": {},
     "output_type": "execute_result"
    }
   ],
   "source": [
    "#check for missing values in stores data frame\n",
    "stores_df.isnull().sum()"
   ]
  },
  {
   "cell_type": "code",
   "execution_count": 20,
   "id": "51421cb7-9d0c-4ed5-957c-3f21a7bc2195",
   "metadata": {},
   "outputs": [
    {
     "data": {
      "text/plain": [
       "customer_id          0\n",
       "first_name           0\n",
       "last_name            0\n",
       "email                3\n",
       "phone                2\n",
       "address              0\n",
       "city                 0\n",
       "state                0\n",
       "zip_code             1\n",
       "registration_date    3\n",
       "dtype: int64"
      ]
     },
     "execution_count": 20,
     "metadata": {},
     "output_type": "execute_result"
    }
   ],
   "source": [
    "#check for missing values in customers data frame\n",
    "customers_df.isnull().sum()"
   ]
  },
  {
   "cell_type": "code",
   "execution_count": 21,
   "id": "578c3372-78fc-4fe3-bf46-6f4fcd20b8e1",
   "metadata": {},
   "outputs": [
    {
     "name": "stdout",
     "output_type": "stream",
     "text": [
      "<class 'pandas.core.frame.DataFrame'>\n",
      "RangeIndex: 31 entries, 0 to 30\n",
      "Data columns (total 10 columns):\n",
      " #   Column             Non-Null Count  Dtype \n",
      "---  ------             --------------  ----- \n",
      " 0   customer_id        31 non-null     int64 \n",
      " 1   first_name         31 non-null     object\n",
      " 2   last_name          31 non-null     object\n",
      " 3   email              28 non-null     object\n",
      " 4   phone              29 non-null     object\n",
      " 5   address            31 non-null     object\n",
      " 6   city               31 non-null     object\n",
      " 7   state              31 non-null     object\n",
      " 8   zip_code           30 non-null     object\n",
      " 9   registration_date  28 non-null     object\n",
      "dtypes: int64(1), object(9)\n",
      "memory usage: 2.6+ KB\n"
     ]
    }
   ],
   "source": [
    "#Display data types for customers:\n",
    "customers_df.info()"
   ]
  },
  {
   "cell_type": "code",
   "execution_count": 22,
   "id": "18c3882b-fa87-4b5e-baf3-7a803805564e",
   "metadata": {},
   "outputs": [
    {
     "name": "stdout",
     "output_type": "stream",
     "text": [
      "<class 'pandas.core.frame.DataFrame'>\n",
      "RangeIndex: 15 entries, 0 to 14\n",
      "Data columns (total 9 columns):\n",
      " #   Column        Non-Null Count  Dtype  \n",
      "---  ------        --------------  -----  \n",
      " 0   store_id      15 non-null     int64  \n",
      " 1   store_name    15 non-null     object \n",
      " 2   address       15 non-null     object \n",
      " 3   city          15 non-null     object \n",
      " 4   state         15 non-null     object \n",
      " 5   zip_code      15 non-null     object \n",
      " 6   region        15 non-null     object \n",
      " 7   size_sqft     13 non-null     float64\n",
      " 8   opening_date  14 non-null     object \n",
      "dtypes: float64(1), int64(1), object(7)\n",
      "memory usage: 1.2+ KB\n"
     ]
    }
   ],
   "source": [
    "#Display data types for stores:\n",
    "stores_df.info()"
   ]
  },
  {
   "cell_type": "code",
   "execution_count": 23,
   "id": "afec93b8-d668-4327-b9b3-5f1a443216b6",
   "metadata": {},
   "outputs": [
    {
     "name": "stdout",
     "output_type": "stream",
     "text": [
      "<class 'pandas.core.frame.DataFrame'>\n",
      "RangeIndex: 40 entries, 0 to 39\n",
      "Data columns (total 8 columns):\n",
      " #   Column          Non-Null Count  Dtype  \n",
      "---  ------          --------------  -----  \n",
      " 0   sale_id         40 non-null     int64  \n",
      " 1   date            39 non-null     object \n",
      " 2   store_id        39 non-null     float64\n",
      " 3   customer_id     40 non-null     int64  \n",
      " 4   product_id      40 non-null     int64  \n",
      " 5   quantity        40 non-null     int64  \n",
      " 6   total           40 non-null     float64\n",
      " 7   payment_method  39 non-null     object \n",
      "dtypes: float64(2), int64(4), object(2)\n",
      "memory usage: 2.6+ KB\n"
     ]
    }
   ],
   "source": [
    "#Display data types for sales:\n",
    "sales_df.info()"
   ]
  },
  {
   "cell_type": "code",
   "execution_count": 24,
   "id": "d81e8d71-c48c-43cf-bdb5-b4a66679fc8f",
   "metadata": {},
   "outputs": [
    {
     "name": "stdout",
     "output_type": "stream",
     "text": [
      "<class 'pandas.core.frame.DataFrame'>\n",
      "RangeIndex: 30 entries, 0 to 29\n",
      "Data columns (total 8 columns):\n",
      " #   Column        Non-Null Count  Dtype  \n",
      "---  ------        --------------  -----  \n",
      " 0   product_id    30 non-null     int64  \n",
      " 1   product_name  30 non-null     object \n",
      " 2   category      30 non-null     object \n",
      " 3   subcategory   30 non-null     object \n",
      " 4   brand         30 non-null     object \n",
      " 5   price         30 non-null     float64\n",
      " 6   cost          30 non-null     float64\n",
      " 7   weight        28 non-null     float64\n",
      "dtypes: float64(3), int64(1), object(4)\n",
      "memory usage: 2.0+ KB\n"
     ]
    }
   ],
   "source": [
    "#Display data types for products:\n",
    "products_df.info()"
   ]
  },
  {
   "cell_type": "code",
   "execution_count": 25,
   "id": "2ac96e28-d5ed-4137-af7a-c5fb3749856b",
   "metadata": {},
   "outputs": [
    {
     "name": "stdout",
     "output_type": "stream",
     "text": [
      "<class 'pandas.core.frame.DataFrame'>\n",
      "RangeIndex: 75 entries, 0 to 74\n",
      "Data columns (total 6 columns):\n",
      " #   Column             Non-Null Count  Dtype  \n",
      "---  ------             --------------  -----  \n",
      " 0   inventory_id       75 non-null     int64  \n",
      " 1   store_id           75 non-null     int64  \n",
      " 2   product_id         75 non-null     int64  \n",
      " 3   quantity_in_stock  75 non-null     int64  \n",
      " 4   last_restock_date  66 non-null     object \n",
      " 5   reorder_level      69 non-null     float64\n",
      "dtypes: float64(1), int64(4), object(1)\n",
      "memory usage: 3.6+ KB\n"
     ]
    }
   ],
   "source": [
    "#Display data types for inventory:\n",
    "inventory_df.info()"
   ]
  },
  {
   "cell_type": "code",
   "execution_count": 28,
   "id": "6dfe8f0d-6610-49d8-a151-878c83ce6ec4",
   "metadata": {},
   "outputs": [
    {
     "data": {
      "text/html": [
       "<div>\n",
       "<style scoped>\n",
       "    .dataframe tbody tr th:only-of-type {\n",
       "        vertical-align: middle;\n",
       "    }\n",
       "\n",
       "    .dataframe tbody tr th {\n",
       "        vertical-align: top;\n",
       "    }\n",
       "\n",
       "    .dataframe thead th {\n",
       "        text-align: right;\n",
       "    }\n",
       "</style>\n",
       "<table border=\"1\" class=\"dataframe\">\n",
       "  <thead>\n",
       "    <tr style=\"text-align: right;\">\n",
       "      <th></th>\n",
       "      <th>product_id</th>\n",
       "      <th>product_name</th>\n",
       "      <th>category</th>\n",
       "      <th>subcategory</th>\n",
       "      <th>brand</th>\n",
       "      <th>price</th>\n",
       "      <th>cost</th>\n",
       "      <th>weight</th>\n",
       "    </tr>\n",
       "  </thead>\n",
       "  <tbody>\n",
       "    <tr>\n",
       "      <th>count</th>\n",
       "      <td>30.000000</td>\n",
       "      <td>30</td>\n",
       "      <td>30</td>\n",
       "      <td>30</td>\n",
       "      <td>30</td>\n",
       "      <td>30.000000</td>\n",
       "      <td>30.000000</td>\n",
       "      <td>28.000000</td>\n",
       "    </tr>\n",
       "    <tr>\n",
       "      <th>unique</th>\n",
       "      <td>NaN</td>\n",
       "      <td>30</td>\n",
       "      <td>19</td>\n",
       "      <td>22</td>\n",
       "      <td>27</td>\n",
       "      <td>NaN</td>\n",
       "      <td>NaN</td>\n",
       "      <td>NaN</td>\n",
       "    </tr>\n",
       "    <tr>\n",
       "      <th>top</th>\n",
       "      <td>NaN</td>\n",
       "      <td>Apple iPhone 13</td>\n",
       "      <td>Electronics</td>\n",
       "      <td>Smartphones</td>\n",
       "      <td>Apple</td>\n",
       "      <td>NaN</td>\n",
       "      <td>NaN</td>\n",
       "      <td>NaN</td>\n",
       "    </tr>\n",
       "    <tr>\n",
       "      <th>freq</th>\n",
       "      <td>NaN</td>\n",
       "      <td>1</td>\n",
       "      <td>5</td>\n",
       "      <td>2</td>\n",
       "      <td>2</td>\n",
       "      <td>NaN</td>\n",
       "      <td>NaN</td>\n",
       "      <td>NaN</td>\n",
       "    </tr>\n",
       "    <tr>\n",
       "      <th>mean</th>\n",
       "      <td>15.500000</td>\n",
       "      <td>NaN</td>\n",
       "      <td>NaN</td>\n",
       "      <td>NaN</td>\n",
       "      <td>NaN</td>\n",
       "      <td>191.724000</td>\n",
       "      <td>203.159000</td>\n",
       "      <td>3.835714</td>\n",
       "    </tr>\n",
       "    <tr>\n",
       "      <th>std</th>\n",
       "      <td>8.803408</td>\n",
       "      <td>NaN</td>\n",
       "      <td>NaN</td>\n",
       "      <td>NaN</td>\n",
       "      <td>NaN</td>\n",
       "      <td>452.483576</td>\n",
       "      <td>278.924138</td>\n",
       "      <td>5.693236</td>\n",
       "    </tr>\n",
       "    <tr>\n",
       "      <th>min</th>\n",
       "      <td>1.000000</td>\n",
       "      <td>NaN</td>\n",
       "      <td>NaN</td>\n",
       "      <td>NaN</td>\n",
       "      <td>NaN</td>\n",
       "      <td>-1599.990000</td>\n",
       "      <td>1.800000</td>\n",
       "      <td>0.200000</td>\n",
       "    </tr>\n",
       "    <tr>\n",
       "      <th>25%</th>\n",
       "      <td>8.250000</td>\n",
       "      <td>NaN</td>\n",
       "      <td>NaN</td>\n",
       "      <td>NaN</td>\n",
       "      <td>NaN</td>\n",
       "      <td>46.990000</td>\n",
       "      <td>28.375000</td>\n",
       "      <td>0.500000</td>\n",
       "    </tr>\n",
       "    <tr>\n",
       "      <th>50%</th>\n",
       "      <td>15.500000</td>\n",
       "      <td>NaN</td>\n",
       "      <td>NaN</td>\n",
       "      <td>NaN</td>\n",
       "      <td>NaN</td>\n",
       "      <td>134.990000</td>\n",
       "      <td>82.500000</td>\n",
       "      <td>1.150000</td>\n",
       "    </tr>\n",
       "    <tr>\n",
       "      <th>75%</th>\n",
       "      <td>22.750000</td>\n",
       "      <td>NaN</td>\n",
       "      <td>NaN</td>\n",
       "      <td>NaN</td>\n",
       "      <td>NaN</td>\n",
       "      <td>322.490000</td>\n",
       "      <td>236.250000</td>\n",
       "      <td>3.750000</td>\n",
       "    </tr>\n",
       "    <tr>\n",
       "      <th>max</th>\n",
       "      <td>30.000000</td>\n",
       "      <td>NaN</td>\n",
       "      <td>NaN</td>\n",
       "      <td>NaN</td>\n",
       "      <td>NaN</td>\n",
       "      <td>1299.990000</td>\n",
       "      <td>1100.000000</td>\n",
       "      <td>25.000000</td>\n",
       "    </tr>\n",
       "  </tbody>\n",
       "</table>\n",
       "</div>"
      ],
      "text/plain": [
       "        product_id     product_name     category  subcategory  brand  \\\n",
       "count    30.000000               30           30           30     30   \n",
       "unique         NaN               30           19           22     27   \n",
       "top            NaN  Apple iPhone 13  Electronics  Smartphones  Apple   \n",
       "freq           NaN                1            5            2      2   \n",
       "mean     15.500000              NaN          NaN          NaN    NaN   \n",
       "std       8.803408              NaN          NaN          NaN    NaN   \n",
       "min       1.000000              NaN          NaN          NaN    NaN   \n",
       "25%       8.250000              NaN          NaN          NaN    NaN   \n",
       "50%      15.500000              NaN          NaN          NaN    NaN   \n",
       "75%      22.750000              NaN          NaN          NaN    NaN   \n",
       "max      30.000000              NaN          NaN          NaN    NaN   \n",
       "\n",
       "              price         cost     weight  \n",
       "count     30.000000    30.000000  28.000000  \n",
       "unique          NaN          NaN        NaN  \n",
       "top             NaN          NaN        NaN  \n",
       "freq            NaN          NaN        NaN  \n",
       "mean     191.724000   203.159000   3.835714  \n",
       "std      452.483576   278.924138   5.693236  \n",
       "min    -1599.990000     1.800000   0.200000  \n",
       "25%       46.990000    28.375000   0.500000  \n",
       "50%      134.990000    82.500000   1.150000  \n",
       "75%      322.490000   236.250000   3.750000  \n",
       "max     1299.990000  1100.000000  25.000000  "
      ]
     },
     "execution_count": 28,
     "metadata": {},
     "output_type": "execute_result"
    }
   ],
   "source": [
    "# Retrieve the number of unique products in the product catalog\n",
    "products_df.describe(include = \"all\")"
   ]
  },
  {
   "cell_type": "code",
   "execution_count": 27,
   "id": "6ce451c9-b0be-4468-9f42-b4636c0383f1",
   "metadata": {},
   "outputs": [
    {
     "data": {
      "text/plain": [
       "30"
      ]
     },
     "execution_count": 27,
     "metadata": {},
     "output_type": "execute_result"
    }
   ],
   "source": [
    "# Retrieve the number of unique products in the product catalog\n",
    "products_df['product_id'].nunique()"
   ]
  },
  {
   "cell_type": "code",
   "execution_count": 29,
   "id": "94b5145b-bf95-4902-8cb9-668d4cd913a4",
   "metadata": {},
   "outputs": [
    {
     "name": "stdout",
     "output_type": "stream",
     "text": [
      "    product_id        product_name        category  subcategory    brand  \\\n",
      "3            4         Dell XPS 13     Electronics      Laptops     Dell   \n",
      "0            1     Apple iPhone 13     Electronics  Smartphones    Apple   \n",
      "1            2  Samsung Galaxy S21     electronics  Smartphones  Samsung   \n",
      "19          20    Dyson V11 Vacuum  HOME & KITCHEN   Appliances    Dyson   \n",
      "26          27  Sony PlayStation 5     Electronics       Gaming     Sony   \n",
      "\n",
      "      price    cost  weight  \n",
      "3   1299.99  899.99    2.80  \n",
      "0    899.99  649.99    0.45  \n",
      "1    799.99  539.99    0.50  \n",
      "19   599.99  375.00    6.70  \n",
      "26   499.99  399.00    4.50  \n"
     ]
    }
   ],
   "source": [
    "#Retrieve the 5 most expensive products:\n",
    "top_5_expensive = products_df.sort_values(by='price', ascending=False).head(5)\n",
    "print(top_5_expensive)\n"
   ]
  },
  {
   "cell_type": "code",
   "execution_count": 36,
   "id": "f1f27a50-f3af-49dd-8bed-a53026994032",
   "metadata": {},
   "outputs": [
    {
     "name": "stdout",
     "output_type": "stream",
     "text": [
      "The store with the largest floor space is 'Los Angeles Plaza' with 55000.0 sqft.\n"
     ]
    }
   ],
   "source": [
    "# Retreiving the store with the largest floor space:\n",
    "largest_store = stores_df.sort_values(by='size_sqft', ascending=False).iloc[0]\n",
    "print(f\"The store with the largest floor space is '{largest_store['store_name']}' with {largest_store['size_sqft']} sqft.\")"
   ]
  },
  {
   "cell_type": "code",
   "execution_count": 38,
   "id": "a9cd31ce-2f2d-4673-8132-0315d4b37bb0",
   "metadata": {},
   "outputs": [
    {
     "data": {
      "text/plain": [
       "state\n",
       "TX                4\n",
       "CA                3\n",
       "NY                2\n",
       "IL                1\n",
       "California        1\n",
       "AZ                1\n",
       "PA                1\n",
       "Texas             1\n",
       "FL                1\n",
       "OH                1\n",
       "North Carolina    1\n",
       "IN                1\n",
       "Washington        1\n",
       "CO                1\n",
       "MA                1\n",
       "Oregon            1\n",
       "NV                1\n",
       "MI                1\n",
       "TN                1\n",
       "Maryland          1\n",
       "MD                1\n",
       "KY                1\n",
       "WI                1\n",
       "NM                1\n",
       "MO                1\n",
       "Name: count, dtype: int64"
      ]
     },
     "execution_count": 38,
     "metadata": {},
     "output_type": "execute_result"
    }
   ],
   "source": [
    "#Number of customers by State\n",
    "customers_df[\"state\"].value_counts()"
   ]
  },
  {
   "cell_type": "code",
   "execution_count": 37,
   "id": "3a92651b-572a-40cc-9c2a-4185ee09f072",
   "metadata": {},
   "outputs": [
    {
     "data": {
      "text/plain": [
       "<Axes: title={'center': 'Number of Customers by State'}, xlabel='state'>"
      ]
     },
     "execution_count": 37,
     "metadata": {},
     "output_type": "execute_result"
    },
    {
     "data": {
      "image/png": "[encoded data removed]",
      "text/plain": [
       "<Figure size 640x480 with 1 Axes>"
      ]
     },
     "metadata": {},
     "output_type": "display_data"
    }
   ],
   "source": [
    "customers_df[\"state\"].value_counts().plot(kind=\"bar\", title=\"Number of Customers by State\")"
   ]
  },
  {
   "cell_type": "code",
   "execution_count": null,
   "id": "910a2f53-d544-4470-b3e1-8a76ff24222e",
   "metadata": {},
   "outputs": [],
   "source": [
    "#Part 2\n",
    "#Identify all missing values in each dataset\n",
    "#\"Missing values are displayed from 16 to 20 above\""
   ]
  },
  {
   "cell_type": "code",
   "execution_count": 48,
   "id": "4d610e26-4ccb-4491-9220-45e24bda0c6e",
   "metadata": {},
   "outputs": [
    {
     "data": {
      "text/html": [
       "<div>\n",
       "<style scoped>\n",
       "    .dataframe tbody tr th:only-of-type {\n",
       "        vertical-align: middle;\n",
       "    }\n",
       "\n",
       "    .dataframe tbody tr th {\n",
       "        vertical-align: top;\n",
       "    }\n",
       "\n",
       "    .dataframe thead th {\n",
       "        text-align: right;\n",
       "    }\n",
       "</style>\n",
       "<table border=\"1\" class=\"dataframe\">\n",
       "  <thead>\n",
       "    <tr style=\"text-align: right;\">\n",
       "      <th></th>\n",
       "      <th>customer_id</th>\n",
       "    </tr>\n",
       "  </thead>\n",
       "  <tbody>\n",
       "    <tr>\n",
       "      <th>count</th>\n",
       "      <td>31.000000</td>\n",
       "    </tr>\n",
       "    <tr>\n",
       "      <th>mean</th>\n",
       "      <td>15.838710</td>\n",
       "    </tr>\n",
       "    <tr>\n",
       "      <th>std</th>\n",
       "      <td>8.858505</td>\n",
       "    </tr>\n",
       "    <tr>\n",
       "      <th>min</th>\n",
       "      <td>1.000000</td>\n",
       "    </tr>\n",
       "    <tr>\n",
       "      <th>25%</th>\n",
       "      <td>8.500000</td>\n",
       "    </tr>\n",
       "    <tr>\n",
       "      <th>50%</th>\n",
       "      <td>16.000000</td>\n",
       "    </tr>\n",
       "    <tr>\n",
       "      <th>75%</th>\n",
       "      <td>23.500000</td>\n",
       "    </tr>\n",
       "    <tr>\n",
       "      <th>max</th>\n",
       "      <td>30.000000</td>\n",
       "    </tr>\n",
       "  </tbody>\n",
       "</table>\n",
       "</div>"
      ],
      "text/plain": [
       "       customer_id\n",
       "count    31.000000\n",
       "mean     15.838710\n",
       "std       8.858505\n",
       "min       1.000000\n",
       "25%       8.500000\n",
       "50%      16.000000\n",
       "75%      23.500000\n",
       "max      30.000000"
      ]
     },
     "execution_count": 48,
     "metadata": {},
     "output_type": "execute_result"
    }
   ],
   "source": [
    "# summary statistics of the customer table\n",
    "customers_df.describe()"
   ]
  },
  {
   "cell_type": "code",
   "execution_count": 40,
   "id": "3fd0381f-0439-4124-818e-2d7920b5a3ae",
   "metadata": {},
   "outputs": [
    {
     "data": {
      "text/html": [
       "<div>\n",
       "<style scoped>\n",
       "    .dataframe tbody tr th:only-of-type {\n",
       "        vertical-align: middle;\n",
       "    }\n",
       "\n",
       "    .dataframe tbody tr th {\n",
       "        vertical-align: top;\n",
       "    }\n",
       "\n",
       "    .dataframe thead th {\n",
       "        text-align: right;\n",
       "    }\n",
       "</style>\n",
       "<table border=\"1\" class=\"dataframe\">\n",
       "  <thead>\n",
       "    <tr style=\"text-align: right;\">\n",
       "      <th></th>\n",
       "      <th>store_id</th>\n",
       "      <th>size_sqft</th>\n",
       "    </tr>\n",
       "  </thead>\n",
       "  <tbody>\n",
       "    <tr>\n",
       "      <th>count</th>\n",
       "      <td>15.000000</td>\n",
       "      <td>13.000000</td>\n",
       "    </tr>\n",
       "    <tr>\n",
       "      <th>mean</th>\n",
       "      <td>8.000000</td>\n",
       "      <td>30653.846154</td>\n",
       "    </tr>\n",
       "    <tr>\n",
       "      <th>std</th>\n",
       "      <td>4.472136</td>\n",
       "      <td>11342.002717</td>\n",
       "    </tr>\n",
       "    <tr>\n",
       "      <th>min</th>\n",
       "      <td>1.000000</td>\n",
       "      <td>16500.000000</td>\n",
       "    </tr>\n",
       "    <tr>\n",
       "      <th>25%</th>\n",
       "      <td>4.500000</td>\n",
       "      <td>22000.000000</td>\n",
       "    </tr>\n",
       "    <tr>\n",
       "      <th>50%</th>\n",
       "      <td>8.000000</td>\n",
       "      <td>29000.000000</td>\n",
       "    </tr>\n",
       "    <tr>\n",
       "      <th>75%</th>\n",
       "      <td>11.500000</td>\n",
       "      <td>35000.000000</td>\n",
       "    </tr>\n",
       "    <tr>\n",
       "      <th>max</th>\n",
       "      <td>15.000000</td>\n",
       "      <td>55000.000000</td>\n",
       "    </tr>\n",
       "  </tbody>\n",
       "</table>\n",
       "</div>"
      ],
      "text/plain": [
       "        store_id     size_sqft\n",
       "count  15.000000     13.000000\n",
       "mean    8.000000  30653.846154\n",
       "std     4.472136  11342.002717\n",
       "min     1.000000  16500.000000\n",
       "25%     4.500000  22000.000000\n",
       "50%     8.000000  29000.000000\n",
       "75%    11.500000  35000.000000\n",
       "max    15.000000  55000.000000"
      ]
     },
     "execution_count": 40,
     "metadata": {},
     "output_type": "execute_result"
    }
   ],
   "source": [
    "# summary statistics of the stores table\n",
    "stores_df.describe()"
   ]
  },
  {
   "cell_type": "code",
   "execution_count": 42,
   "id": "1de36b02-6194-4889-91f7-d390d4e5d18e",
   "metadata": {},
   "outputs": [],
   "source": [
    "#For numerical columns with missing values, replace them with the column mean\n",
    "#Filling numeric missing values at stores_df\n",
    "stores_df['size_sqft'] = stores_df['size_sqft'].fillna(stores_df['size_sqft'].mean())"
   ]
  },
  {
   "cell_type": "code",
   "execution_count": 43,
   "id": "69a37990-4411-4d76-af22-d7c75406d536",
   "metadata": {},
   "outputs": [
    {
     "data": {
      "text/plain": [
       "np.int64(0)"
      ]
     },
     "execution_count": 43,
     "metadata": {},
     "output_type": "execute_result"
    }
   ],
   "source": [
    "stores_df['size_sqft'].isnull().sum()"
   ]
  },
  {
   "cell_type": "code",
   "execution_count": 45,
   "id": "b70a14cf-5a9d-41d8-855c-06727b8bce9b",
   "metadata": {},
   "outputs": [],
   "source": [
    "#Filling numeric missing values at products_df\n",
    "products_df['weight'] = products_df['weight'].fillna(products_df['weight'].mean())"
   ]
  },
  {
   "cell_type": "code",
   "execution_count": 46,
   "id": "7f36bdc0-2d22-4637-937f-feb63c6ada03",
   "metadata": {},
   "outputs": [
    {
     "data": {
      "text/plain": [
       "np.int64(0)"
      ]
     },
     "execution_count": 46,
     "metadata": {},
     "output_type": "execute_result"
    }
   ],
   "source": [
    "products_df['weight'].isnull().sum()"
   ]
  },
  {
   "cell_type": "code",
   "execution_count": 49,
   "id": "aa9cb107-0842-43c6-b8e6-d180af4fc283",
   "metadata": {},
   "outputs": [],
   "source": [
    "#Filling numeric missing values at inventory_df\n",
    "inventory_df['reorder_level'] = inventory_df['reorder_level'].fillna(inventory_df['reorder_level'].mean())"
   ]
  },
  {
   "cell_type": "code",
   "execution_count": 50,
   "id": "7ac6fb51-90e6-43ef-8a36-84404d9c07a1",
   "metadata": {},
   "outputs": [
    {
     "data": {
      "text/plain": [
       "np.int64(0)"
      ]
     },
     "execution_count": 50,
     "metadata": {},
     "output_type": "execute_result"
    }
   ],
   "source": [
    "inventory_df['reorder_level'].isnull().sum()"
   ]
  },
  {
   "cell_type": "code",
   "execution_count": 51,
   "id": "652d4956-c3d3-4012-889b-07f0eb813845",
   "metadata": {},
   "outputs": [],
   "source": [
    "sales_df['store_id'] = sales_df['store_id'].fillna(sales_df['store_id'].mean())"
   ]
  },
  {
   "cell_type": "code",
   "execution_count": 52,
   "id": "78ce6b24-b5dc-47a0-b1b6-c4a3ea2daaf7",
   "metadata": {},
   "outputs": [
    {
     "data": {
      "text/plain": [
       "np.int64(0)"
      ]
     },
     "execution_count": 52,
     "metadata": {},
     "output_type": "execute_result"
    }
   ],
   "source": [
    "sales_df['store_id'].isnull().sum()"
   ]
  },
  {
   "cell_type": "code",
   "execution_count": 65,
   "id": "c243e856-235f-43e1-9ec3-51a7deb24d46",
   "metadata": {},
   "outputs": [],
   "source": [
    "#For categorical columns with missing values, replace them with the most frequent value\n",
    "# Define columns to skip\n",
    "date_columns = ['registration_date', 'date', 'last_restock_date', 'opening_date']\n",
    "\n",
    "# Fill missing values in object columns, excluding known date columns for customers_df\n",
    "for col in customers_df.select_dtypes(include='object').columns:\n",
    "    if col not in date_columns:\n",
    "        missing_count = customers_df[col].isnull().sum()\n",
    "        if missing_count > 0:\n",
    "            mode_value = customers_df[col].mode()[0]\n",
    "            customers_df[col] = customers_df[col].fillna(mode_value)\n",
    "            print(f\"Filled {missing_count} missing values in '{col}' with mode '{mode_value}'\")\n"
   ]
  },
  {
   "cell_type": "code",
   "execution_count": 67,
   "id": "15f51c04-1ead-494f-b9be-ee5a7d095de1",
   "metadata": {},
   "outputs": [
    {
     "name": "stdout",
     "output_type": "stream",
     "text": [
      "first_name    0\n",
      "last_name     0\n",
      "email         0\n",
      "phone         0\n",
      "address       0\n",
      "city          0\n",
      "state         0\n",
      "zip_code      0\n",
      "dtype: int64\n"
     ]
    }
   ],
   "source": [
    "print(customers_df.select_dtypes(include='object').isnull().sum())\n"
   ]
  },
  {
   "cell_type": "code",
   "execution_count": 68,
   "id": "bb135c30-253a-4727-b378-16e751cb2215",
   "metadata": {},
   "outputs": [],
   "source": [
    "# Fill missing values in object columns, excluding known date columns for inventory_df\n",
    "for col in inventory_df.select_dtypes(include='object').columns:\n",
    "    if col not in date_columns:\n",
    "        missing_count = inventory_df[col].isnull().sum()\n",
    "        if missing_count > 0:\n",
    "            mode_value = inventory_df[col].mode()[0]\n",
    "            inventory_df[col] = inventory_df[col].fillna(mode_value)\n",
    "            print(f\"inventory_df: Filled {missing_count} missing values in '{col}' with mode '{mode_value}'\")\n"
   ]
  },
  {
   "cell_type": "code",
   "execution_count": 69,
   "id": "b88521f9-af03-46c5-a9ec-389325c62026",
   "metadata": {},
   "outputs": [
    {
     "name": "stdout",
     "output_type": "stream",
     "text": [
      "last_restock_date    9\n",
      "dtype: int64\n"
     ]
    }
   ],
   "source": [
    "print(inventory_df.select_dtypes(include='object').isnull().sum())\n"
   ]
  },
  {
   "cell_type": "code",
   "execution_count": 70,
   "id": "91b335e9-fa60-4a55-8692-46720b2f8cd4",
   "metadata": {},
   "outputs": [
    {
     "name": "stdout",
     "output_type": "stream",
     "text": [
      "sales_df: Filled 1 missing values in 'payment_method' with mode 'Credit Card'\n"
     ]
    }
   ],
   "source": [
    "# Fill missing values in object columns, excluding known date columns for sales_df\n",
    "for col in sales_df.select_dtypes(include='object').columns:\n",
    "    if col not in date_columns:\n",
    "        missing_count = sales_df[col].isnull().sum()\n",
    "        if missing_count > 0:\n",
    "            mode_value = sales_df[col].mode()[0]\n",
    "            sales_df[col] = sales_df[col].fillna(mode_value)\n",
    "            print(f\"sales_df: Filled {missing_count} missing values in '{col}' with mode '{mode_value}'\")\n"
   ]
  },
  {
   "cell_type": "code",
   "execution_count": 71,
   "id": "1e7af52a-de47-41dd-ab1e-0daaeebe2306",
   "metadata": {},
   "outputs": [
    {
     "name": "stdout",
     "output_type": "stream",
     "text": [
      "date              1\n",
      "payment_method    0\n",
      "dtype: int64\n"
     ]
    }
   ],
   "source": [
    "print(sales_df.select_dtypes(include='object').isnull().sum())"
   ]
  },
  {
   "cell_type": "code",
   "execution_count": 72,
   "id": "818781a9-ba56-4ae5-b756-98e8e6d94528",
   "metadata": {},
   "outputs": [],
   "source": [
    "# Fill missing values in object columns, excluding known date columns for stores_df\n",
    "for col in stores_df.select_dtypes(include='object').columns:\n",
    "    if col not in date_columns:\n",
    "        missing_count = stores_df[col].isnull().sum()\n",
    "        if missing_count > 0:\n",
    "            mode_value = stores_df[col].mode()[0]\n",
    "            stores_df[col] = stores_df[col].fillna(mode_value)\n",
    "            print(f\"stores_df: Filled {missing_count} missing values in '{col}' with mode '{mode_value}'\")\n"
   ]
  },
  {
   "cell_type": "code",
   "execution_count": 73,
   "id": "84b7b755-fd61-41a9-b47a-74904c808ce9",
   "metadata": {},
   "outputs": [
    {
     "name": "stdout",
     "output_type": "stream",
     "text": [
      "store_name    0\n",
      "address       0\n",
      "city          0\n",
      "state         0\n",
      "zip_code      0\n",
      "region        0\n",
      "dtype: int64\n"
     ]
    }
   ],
   "source": [
    "print(stores_df.select_dtypes(include='object').isnull().sum())"
   ]
  },
  {
   "cell_type": "code",
   "execution_count": 74,
   "id": "d90c6ce5-bb6c-4370-8c0d-4d3570ce0757",
   "metadata": {},
   "outputs": [],
   "source": [
    "#For date columns with missing values, use forward fill or backward fill as appropriate\n",
    "inventory_df['last_restock_date'] = pd.to_datetime(inventory_df['last_restock_date'], errors='coerce')"
   ]
  },
  {
   "cell_type": "code",
   "execution_count": 77,
   "id": "8b7e1b7e-5aee-4f56-8bd6-6f2df680082f",
   "metadata": {},
   "outputs": [],
   "source": [
    "#For last_restock_date in inventory_df:\n",
    "inventory_df['last_restock_date'] = inventory_df['last_restock_date'].ffill()"
   ]
  },
  {
   "cell_type": "code",
   "execution_count": 78,
   "id": "a5814680-90cd-4a56-b66b-fd39b4f8890e",
   "metadata": {},
   "outputs": [],
   "source": [
    "#For date in sales_df:\n",
    "sales_df['date'] = pd.to_datetime(sales_df['date'], errors='coerce')\n"
   ]
  },
  {
   "cell_type": "code",
   "execution_count": 79,
   "id": "774783df-b9cd-495b-9a6f-4c54ac3c5b59",
   "metadata": {},
   "outputs": [],
   "source": [
    "sales_df['date'] = sales_df['date'].ffill()"
   ]
  },
  {
   "cell_type": "code",
   "execution_count": 80,
   "id": "b1d10e80-7455-456e-b175-7ef5e4bc11c7",
   "metadata": {},
   "outputs": [
    {
     "name": "stdout",
     "output_type": "stream",
     "text": [
      "0\n"
     ]
    }
   ],
   "source": [
    "print(inventory_df['last_restock_date'].isnull().sum())\n"
   ]
  },
  {
   "cell_type": "code",
   "execution_count": 82,
   "id": "68edfb9a-6d29-43c1-a525-2a7e4d7adfb0",
   "metadata": {},
   "outputs": [],
   "source": [
    "# Define known date columns\n",
    "date_columns = ['registration_date', 'last_restock_date', 'transaction_date', 'opening_date', 'date']\n",
    "\n",
    "# Apply safe categorical fill\n",
    "for df, name in [(customers_df, \"customers_df\"), (inventory_df, \"inventory_df\"),\n",
    "                 (sales_df, \"sales_df\"), (stores_df, \"stores_df\")]:\n",
    "    for col in df.select_dtypes(include='object').columns:\n",
    "        if col not in date_columns:\n",
    "            missing_count = df[col].isnull().sum()\n",
    "            if missing_count > 0:\n",
    "                mode_value = df[col].mode()[0]\n",
    "                df[col] = df[col].fillna(mode_value)\n",
    "                print(f\"{name}: Filled {missing_count} missing values in '{col}' with mode '{mode_value}'\")\n"
   ]
  },
  {
   "cell_type": "code",
   "execution_count": 83,
   "id": "55b36d60-d17a-4725-9e68-6017e803eacf",
   "metadata": {},
   "outputs": [],
   "source": [
    "# last_restoct_date for inventory_df\n",
    "inventory_df['last_restock_date'] = pd.to_datetime(inventory_df['last_restock_date'], errors='coerce')\n",
    "inventory_df['last_restock_date'] = inventory_df['last_restock_date'].ffill()"
   ]
  },
  {
   "cell_type": "code",
   "execution_count": 84,
   "id": "27c85f57-f326-4d77-b7a3-e3ab60de3f09",
   "metadata": {},
   "outputs": [],
   "source": [
    "# date for sales_df\n",
    "sales_df['date'] = pd.to_datetime(sales_df['date'], errors='coerce')\n",
    "sales_df['date'] = sales_df['date'].ffill()"
   ]
  },
  {
   "cell_type": "code",
   "execution_count": 85,
   "id": "9ab35e15-23f9-42bb-b996-58837f076c68",
   "metadata": {},
   "outputs": [
    {
     "name": "stdout",
     "output_type": "stream",
     "text": [
      "customers_df: 0\n"
     ]
    }
   ],
   "source": [
    "print(\"customers_df:\", customers_df['registration_date'].isnull().sum())\n"
   ]
  },
  {
   "cell_type": "code",
   "execution_count": 86,
   "id": "6380d591-2d41-430d-834a-5b3a2911848f",
   "metadata": {},
   "outputs": [
    {
     "name": "stdout",
     "output_type": "stream",
     "text": [
      "inventory_df: 0\n"
     ]
    }
   ],
   "source": [
    "print(\"inventory_df:\", inventory_df['last_restock_date'].isnull().sum())\n"
   ]
  },
  {
   "cell_type": "code",
   "execution_count": 87,
   "id": "b4915538-e57c-42fa-81ae-8f6ba4f833ed",
   "metadata": {},
   "outputs": [
    {
     "name": "stdout",
     "output_type": "stream",
     "text": [
      "sales_df: 0\n"
     ]
    }
   ],
   "source": [
    "print(\"sales_df:\", sales_df['date'].isnull().sum())"
   ]
  },
  {
   "cell_type": "code",
   "execution_count": 88,
   "id": "45afe3c3-e3fe-43c2-9790-6cc7238c12b2",
   "metadata": {},
   "outputs": [
    {
     "name": "stdout",
     "output_type": "stream",
     "text": [
      "stores_df: 0\n"
     ]
    }
   ],
   "source": [
    "print(\"stores_df:\", stores_df['opening_date'].isnull().sum())\n"
   ]
  },
  {
   "cell_type": "code",
   "execution_count": 6,
   "id": "256dcf73-9ceb-4826-b16b-a1d735b804b5",
   "metadata": {},
   "outputs": [
    {
     "name": "stdout",
     "output_type": "stream",
     "text": [
      "Duplicate rows in customers_df:\n",
      "Empty DataFrame\n",
      "Columns: [customer_id, first_name, last_name, email, phone, address, city, state, zip_code, registration_date]\n",
      "Index: []\n"
     ]
    }
   ],
   "source": [
    "#Removing Duplicates\n",
    "# Check for duplicates in customers_df\n",
    "duplicate_customers = customers_df[customers_df.duplicated()]\n",
    "print(f\"Duplicate rows in customers_df:\\n{duplicate_customers}\")"
   ]
  },
  {
   "cell_type": "code",
   "execution_count": 7,
   "id": "bf973507-dbf1-402e-ba5e-7f31756d1b05",
   "metadata": {},
   "outputs": [
    {
     "name": "stdout",
     "output_type": "stream",
     "text": [
      "Duplicate rows in products_df:\n",
      "Empty DataFrame\n",
      "Columns: [product_id, product_name, category, subcategory, brand, price, cost, weight]\n",
      "Index: []\n"
     ]
    }
   ],
   "source": [
    "# Check for duplicates in products_df\n",
    "duplicate_products = products_df[products_df.duplicated()]\n",
    "print(f\"Duplicate rows in products_df:\\n{duplicate_products}\")"
   ]
  },
  {
   "cell_type": "code",
   "execution_count": 8,
   "id": "7a45393f-1b38-45ab-9112-f2eda02cc262",
   "metadata": {},
   "outputs": [
    {
     "name": "stdout",
     "output_type": "stream",
     "text": [
      "Number of duplicate rows in customers_df: 0\n"
     ]
    }
   ],
   "source": [
    "print(\"Number of duplicate rows in customers_df:\", customers_df.duplicated().sum())"
   ]
  },
  {
   "cell_type": "code",
   "execution_count": 9,
   "id": "8e1ee696-1b84-4c09-ba75-b3397f401157",
   "metadata": {},
   "outputs": [
    {
     "name": "stdout",
     "output_type": "stream",
     "text": [
      "Number of duplicate rows in products_df: 0\n"
     ]
    }
   ],
   "source": [
    "print(\"Number of duplicate rows in products_df:\", products_df.duplicated().sum())"
   ]
  },
  {
   "cell_type": "code",
   "execution_count": 10,
   "id": "c43f88a7-aab8-4c46-a440-6d7284c95b7d",
   "metadata": {},
   "outputs": [
    {
     "name": "stdout",
     "output_type": "stream",
     "text": [
      "Duplicate customer_id count: 1\n"
     ]
    }
   ],
   "source": [
    "# Check for duplicate customer IDs\n",
    "print(\"Duplicate customer_id count:\", customers_df.duplicated(subset=[\"customer_id\"]).sum())\n"
   ]
  },
  {
   "cell_type": "code",
   "execution_count": 11,
   "id": "a3be0494-e877-4656-a965-4ebc5b5d25ec",
   "metadata": {},
   "outputs": [
    {
     "name": "stdout",
     "output_type": "stream",
     "text": [
      "Duplicate product_id count: 0\n"
     ]
    }
   ],
   "source": [
    "# Check for duplicate product IDs\n",
    "print(\"Duplicate product_id count:\", products_df.duplicated(subset=[\"product_id\"]).sum())"
   ]
  },
  {
   "cell_type": "code",
   "execution_count": 12,
   "id": "9968202b-df17-4a7f-bdaf-266f9e89c2e2",
   "metadata": {},
   "outputs": [
    {
     "name": "stdout",
     "output_type": "stream",
     "text": [
      "    customer_id first_name last_name                  email         phone  \\\n",
      "25           26      Betty     Lewis  betty.lewis@gmail.com    5551597532   \n",
      "26           26      Betty     Lewis     blewis23@gmail.com  555 159 7532   \n",
      "\n",
      "                    address       city     state zip_code registration_date  \n",
      "25       753 MacArthur Blvd  Baltimore  Maryland    21202        2020-07-01  \n",
      "26  753 MacArthur Boulevard  Baltimore        MD    21202        2020-07-01  \n"
     ]
    }
   ],
   "source": [
    "# Show all rows with the duplicated customer_id\n",
    "duplicate_id_rows = customers_df[customers_df.duplicated(subset=[\"customer_id\"], keep=False)]\n",
    "print(duplicate_id_rows)"
   ]
  },
  {
   "cell_type": "code",
   "execution_count": 13,
   "id": "3bfe8f80-6722-4a7a-977b-efc478f2ca63",
   "metadata": {},
   "outputs": [],
   "source": [
    "# Drop row 25 (index of the less complete duplicate)\n",
    "customers_df = customers_df.drop(index=25)"
   ]
  },
  {
   "cell_type": "code",
   "execution_count": 14,
   "id": "85ec46fa-e5ee-44f4-934d-fcd40d6e1e67",
   "metadata": {},
   "outputs": [
    {
     "name": "stdout",
     "output_type": "stream",
     "text": [
      "(30, 10)\n"
     ]
    }
   ],
   "source": [
    "# Check new shape for customers_df\n",
    "print(customers_df.shape)"
   ]
  },
  {
   "cell_type": "code",
   "execution_count": 15,
   "id": "42cba650-6ef4-4491-9791-4b17c18a85b1",
   "metadata": {},
   "outputs": [
    {
     "name": "stdout",
     "output_type": "stream",
     "text": [
      "Empty DataFrame\n",
      "Columns: [customer_id, first_name, last_name, email, phone, address, city, state, zip_code, registration_date]\n",
      "Index: []\n"
     ]
    }
   ],
   "source": [
    "# Check if customer_id 26 still has duplicates\n",
    "print(customers_df[customers_df.duplicated(subset=[\"customer_id\"])])\n"
   ]
  },
  {
   "cell_type": "code",
   "execution_count": null,
   "id": "fd2807f9-3f8f-4d6a-a08f-ec68d1bfb7f0",
   "metadata": {},
   "outputs": [],
   "source": []
  }
 ],
 "metadata": {
  "kernelspec": {
   "display_name": "Python 3 (ipykernel)",
   "language": "python",
   "name": "python3"
  },
  "language_info": {
   "codemirror_mode": {
    "name": "ipython",
    "version": 3
   },
   "file_extension": ".py",
   "mimetype": "text/x-python",
   "name": "python",
   "nbconvert_exporter": "python",
   "pygments_lexer": "ipython3",
   "version": "3.13.5"
  }
 },
 "nbformat": 4,
 "nbformat_minor": 5
}
